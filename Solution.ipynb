{
 "cells": [
  {
   "cell_type": "markdown",
   "metadata": {},
   "source": [
    "# Задача."
   ]
  },
  {
   "cell_type": "markdown",
   "metadata": {},
   "source": [
    "Дан датасет прослушиваний музыки, который нужно скачать по [ссылке](https://www.kaggle.com/competitions/kkbox-music-recommendation-challenge/data) (описание данных можно найти там же).\n",
    "\n",
    "На основе этих данных построить рекомендательную систему релевантных треков для пользователей и оценить ее качество. В качестве метрики качества используйте NDSG@20."
   ]
  },
  {
   "cell_type": "markdown",
   "metadata": {},
   "source": [
    "# Содержание файла."
   ]
  },
  {
   "cell_type": "markdown",
   "metadata": {},
   "source": [
    "1) Exploratory data analysis.\n",
    "\n",
    "2) Выбор модели для рекомендательной системы музыки.\n",
    "\n",
    "3) Подготовка данных для модели.\n",
    "\n",
    "4) Разработка модели.\n",
    "\n",
    "5) Подбор параметров модели.\n",
    "\n",
    "6) Финальная оценка качества модели с помощью метрики NDSG@20."
   ]
  },
  {
   "cell_type": "markdown",
   "metadata": {},
   "source": [
    "# Exploratory data analysis."
   ]
  },
  {
   "cell_type": "markdown",
   "metadata": {},
   "source": [
    "Добавим необходимые библиотеки.\n"
   ]
  },
  {
   "cell_type": "code",
   "execution_count": 3,
   "metadata": {},
   "outputs": [],
   "source": [
    "import pandas as pd\n",
    "import numpy as np\n",
    "import matplotlib.pyplot as plt\n",
    "import seaborn as sns\n",
    "\n",
    "from scipy.sparse.linalg import svds\n",
    "from scipy import sparse\n",
    "\n",
    "from sklearn.metrics import ndcg_score\n",
    "from sklearn.preprocessing import LabelEncoder\n",
    "from sklearn.model_selection import train_test_split\n",
    "from sklearn.ensemble import RandomForestClassifier\n",
    "\n",
    "import opendatasets as od\n",
    "import py7zr\n",
    "import glob"
   ]
  },
  {
   "cell_type": "markdown",
   "metadata": {},
   "source": [
    "Скачаем датасет с сайта Kaggle."
   ]
  },
  {
   "cell_type": "code",
   "execution_count": 4,
   "metadata": {},
   "outputs": [
    {
     "name": "stdout",
     "output_type": "stream",
     "text": [
      "Skipping, found downloaded files in \".\\kkbox-music-recommendation-challenge\" (use force=True to force download)\n"
     ]
    }
   ],
   "source": [
    "od.download('https://www.kaggle.com/competitions/kkbox-music-recommendation-challenge/data')"
   ]
  },
  {
   "cell_type": "markdown",
   "metadata": {},
   "source": [
    "Распакуем файлы."
   ]
  },
  {
   "cell_type": "code",
   "execution_count": 5,
   "metadata": {},
   "outputs": [],
   "source": [
    "for file in glob.glob('kkbox-music-recommendation-challenge/*.7z'):\n",
    "    with py7zr.SevenZipFile(file, mode='r') as z:\n",
    "        z.extractall(path='kkbox-music-recommendation-challenge/')"
   ]
  },
  {
   "cell_type": "markdown",
   "metadata": {},
   "source": [
    "Посмотрим какие файлы у нас есть."
   ]
  },
  {
   "cell_type": "code",
   "execution_count": 6,
   "metadata": {},
   "outputs": [
    {
     "name": "stdout",
     "output_type": "stream",
     "text": [
      "kkbox-music-recommendation-challenge\\members.csv\n",
      "kkbox-music-recommendation-challenge\\sample_submission.csv\n",
      "kkbox-music-recommendation-challenge\\songs.csv\n",
      "kkbox-music-recommendation-challenge\\song_extra_info.csv\n",
      "kkbox-music-recommendation-challenge\\test.csv\n",
      "kkbox-music-recommendation-challenge\\train.csv\n"
     ]
    }
   ],
   "source": [
    "for file in glob.glob('kkbox-music-recommendation-challenge/*.csv'):\n",
    "    print(file)"
   ]
  },
  {
   "cell_type": "markdown",
   "metadata": {},
   "source": [
    "Загрузим данные из файлов в датафреймы Pandas."
   ]
  },
  {
   "cell_type": "code",
   "execution_count": 7,
   "metadata": {},
   "outputs": [],
   "source": [
    "df_members = pd.read_csv('kkbox-music-recommendation-challenge/members.csv')\n",
    "df_sample_submission = pd.read_csv('kkbox-music-recommendation-challenge/sample_submission.csv')\n",
    "df_song_extra_info = pd.read_csv('kkbox-music-recommendation-challenge/songs.csv')\n",
    "df_songs = pd.read_csv('kkbox-music-recommendation-challenge/song_extra_info.csv')\n",
    "df_test = pd.read_csv('kkbox-music-recommendation-challenge/test.csv')\n",
    "df_train = pd.read_csv('kkbox-music-recommendation-challenge/train.csv')"
   ]
  },
  {
   "cell_type": "markdown",
   "metadata": {},
   "source": [
    "Посмотрим на полученные датафреймы."
   ]
  },
  {
   "cell_type": "code",
   "execution_count": 8,
   "metadata": {},
   "outputs": [
    {
     "name": "stdout",
     "output_type": "stream",
     "text": [
      "(34403, 7)\n"
     ]
    },
    {
     "data": {
      "text/html": [
       "<div>\n",
       "<style scoped>\n",
       "    .dataframe tbody tr th:only-of-type {\n",
       "        vertical-align: middle;\n",
       "    }\n",
       "\n",
       "    .dataframe tbody tr th {\n",
       "        vertical-align: top;\n",
       "    }\n",
       "\n",
       "    .dataframe thead th {\n",
       "        text-align: right;\n",
       "    }\n",
       "</style>\n",
       "<table border=\"1\" class=\"dataframe\">\n",
       "  <thead>\n",
       "    <tr style=\"text-align: right;\">\n",
       "      <th></th>\n",
       "      <th>msno</th>\n",
       "      <th>city</th>\n",
       "      <th>bd</th>\n",
       "      <th>gender</th>\n",
       "      <th>registered_via</th>\n",
       "      <th>registration_init_time</th>\n",
       "      <th>expiration_date</th>\n",
       "    </tr>\n",
       "  </thead>\n",
       "  <tbody>\n",
       "    <tr>\n",
       "      <th>0</th>\n",
       "      <td>XQxgAYj3klVKjR3oxPPXYYFp4soD4TuBghkhMTD4oTw=</td>\n",
       "      <td>1</td>\n",
       "      <td>0</td>\n",
       "      <td>NaN</td>\n",
       "      <td>7</td>\n",
       "      <td>20110820</td>\n",
       "      <td>20170920</td>\n",
       "    </tr>\n",
       "    <tr>\n",
       "      <th>1</th>\n",
       "      <td>UizsfmJb9mV54qE9hCYyU07Va97c0lCRLEQX3ae+ztM=</td>\n",
       "      <td>1</td>\n",
       "      <td>0</td>\n",
       "      <td>NaN</td>\n",
       "      <td>7</td>\n",
       "      <td>20150628</td>\n",
       "      <td>20170622</td>\n",
       "    </tr>\n",
       "    <tr>\n",
       "      <th>2</th>\n",
       "      <td>D8nEhsIOBSoE6VthTaqDX8U6lqjJ7dLdr72mOyLya2A=</td>\n",
       "      <td>1</td>\n",
       "      <td>0</td>\n",
       "      <td>NaN</td>\n",
       "      <td>4</td>\n",
       "      <td>20160411</td>\n",
       "      <td>20170712</td>\n",
       "    </tr>\n",
       "    <tr>\n",
       "      <th>3</th>\n",
       "      <td>mCuD+tZ1hERA/o5GPqk38e041J8ZsBaLcu7nGoIIvhI=</td>\n",
       "      <td>1</td>\n",
       "      <td>0</td>\n",
       "      <td>NaN</td>\n",
       "      <td>9</td>\n",
       "      <td>20150906</td>\n",
       "      <td>20150907</td>\n",
       "    </tr>\n",
       "    <tr>\n",
       "      <th>4</th>\n",
       "      <td>q4HRBfVSssAFS9iRfxWrohxuk9kCYMKjHOEagUMV6rQ=</td>\n",
       "      <td>1</td>\n",
       "      <td>0</td>\n",
       "      <td>NaN</td>\n",
       "      <td>4</td>\n",
       "      <td>20170126</td>\n",
       "      <td>20170613</td>\n",
       "    </tr>\n",
       "  </tbody>\n",
       "</table>\n",
       "</div>"
      ],
      "text/plain": [
       "                                           msno  city  bd gender  \\\n",
       "0  XQxgAYj3klVKjR3oxPPXYYFp4soD4TuBghkhMTD4oTw=     1   0    NaN   \n",
       "1  UizsfmJb9mV54qE9hCYyU07Va97c0lCRLEQX3ae+ztM=     1   0    NaN   \n",
       "2  D8nEhsIOBSoE6VthTaqDX8U6lqjJ7dLdr72mOyLya2A=     1   0    NaN   \n",
       "3  mCuD+tZ1hERA/o5GPqk38e041J8ZsBaLcu7nGoIIvhI=     1   0    NaN   \n",
       "4  q4HRBfVSssAFS9iRfxWrohxuk9kCYMKjHOEagUMV6rQ=     1   0    NaN   \n",
       "\n",
       "   registered_via  registration_init_time  expiration_date  \n",
       "0               7                20110820         20170920  \n",
       "1               7                20150628         20170622  \n",
       "2               4                20160411         20170712  \n",
       "3               9                20150906         20150907  \n",
       "4               4                20170126         20170613  "
      ]
     },
     "execution_count": 8,
     "metadata": {},
     "output_type": "execute_result"
    }
   ],
   "source": [
    "print(df_members.shape)\n",
    "df_members.head(5)"
   ]
  },
  {
   "cell_type": "code",
   "execution_count": 9,
   "metadata": {},
   "outputs": [
    {
     "name": "stdout",
     "output_type": "stream",
     "text": [
      "(2556790, 2)\n"
     ]
    },
    {
     "data": {
      "text/html": [
       "<div>\n",
       "<style scoped>\n",
       "    .dataframe tbody tr th:only-of-type {\n",
       "        vertical-align: middle;\n",
       "    }\n",
       "\n",
       "    .dataframe tbody tr th {\n",
       "        vertical-align: top;\n",
       "    }\n",
       "\n",
       "    .dataframe thead th {\n",
       "        text-align: right;\n",
       "    }\n",
       "</style>\n",
       "<table border=\"1\" class=\"dataframe\">\n",
       "  <thead>\n",
       "    <tr style=\"text-align: right;\">\n",
       "      <th></th>\n",
       "      <th>id</th>\n",
       "      <th>target</th>\n",
       "    </tr>\n",
       "  </thead>\n",
       "  <tbody>\n",
       "    <tr>\n",
       "      <th>0</th>\n",
       "      <td>0</td>\n",
       "      <td>0.5</td>\n",
       "    </tr>\n",
       "    <tr>\n",
       "      <th>1</th>\n",
       "      <td>1</td>\n",
       "      <td>0.5</td>\n",
       "    </tr>\n",
       "    <tr>\n",
       "      <th>2</th>\n",
       "      <td>2</td>\n",
       "      <td>0.5</td>\n",
       "    </tr>\n",
       "    <tr>\n",
       "      <th>3</th>\n",
       "      <td>3</td>\n",
       "      <td>0.5</td>\n",
       "    </tr>\n",
       "    <tr>\n",
       "      <th>4</th>\n",
       "      <td>4</td>\n",
       "      <td>0.5</td>\n",
       "    </tr>\n",
       "  </tbody>\n",
       "</table>\n",
       "</div>"
      ],
      "text/plain": [
       "   id  target\n",
       "0   0     0.5\n",
       "1   1     0.5\n",
       "2   2     0.5\n",
       "3   3     0.5\n",
       "4   4     0.5"
      ]
     },
     "execution_count": 9,
     "metadata": {},
     "output_type": "execute_result"
    }
   ],
   "source": [
    "print(df_sample_submission.shape)\n",
    "df_sample_submission.head(5)"
   ]
  },
  {
   "cell_type": "code",
   "execution_count": 10,
   "metadata": {},
   "outputs": [
    {
     "name": "stdout",
     "output_type": "stream",
     "text": [
      "(2296320, 7)\n"
     ]
    },
    {
     "data": {
      "text/html": [
       "<div>\n",
       "<style scoped>\n",
       "    .dataframe tbody tr th:only-of-type {\n",
       "        vertical-align: middle;\n",
       "    }\n",
       "\n",
       "    .dataframe tbody tr th {\n",
       "        vertical-align: top;\n",
       "    }\n",
       "\n",
       "    .dataframe thead th {\n",
       "        text-align: right;\n",
       "    }\n",
       "</style>\n",
       "<table border=\"1\" class=\"dataframe\">\n",
       "  <thead>\n",
       "    <tr style=\"text-align: right;\">\n",
       "      <th></th>\n",
       "      <th>song_id</th>\n",
       "      <th>song_length</th>\n",
       "      <th>genre_ids</th>\n",
       "      <th>artist_name</th>\n",
       "      <th>composer</th>\n",
       "      <th>lyricist</th>\n",
       "      <th>language</th>\n",
       "    </tr>\n",
       "  </thead>\n",
       "  <tbody>\n",
       "    <tr>\n",
       "      <th>0</th>\n",
       "      <td>CXoTN1eb7AI+DntdU1vbcwGRV4SCIDxZu+YD8JP8r4E=</td>\n",
       "      <td>247640</td>\n",
       "      <td>465</td>\n",
       "      <td>張信哲 (Jeff Chang)</td>\n",
       "      <td>董貞</td>\n",
       "      <td>何啟弘</td>\n",
       "      <td>3.0</td>\n",
       "    </tr>\n",
       "    <tr>\n",
       "      <th>1</th>\n",
       "      <td>o0kFgae9QtnYgRkVPqLJwa05zIhRlUjfF7O1tDw0ZDU=</td>\n",
       "      <td>197328</td>\n",
       "      <td>444</td>\n",
       "      <td>BLACKPINK</td>\n",
       "      <td>TEDDY|  FUTURE BOUNCE|  Bekuh BOOM</td>\n",
       "      <td>TEDDY</td>\n",
       "      <td>31.0</td>\n",
       "    </tr>\n",
       "    <tr>\n",
       "      <th>2</th>\n",
       "      <td>DwVvVurfpuz+XPuFvucclVQEyPqcpUkHR0ne1RQzPs0=</td>\n",
       "      <td>231781</td>\n",
       "      <td>465</td>\n",
       "      <td>SUPER JUNIOR</td>\n",
       "      <td>NaN</td>\n",
       "      <td>NaN</td>\n",
       "      <td>31.0</td>\n",
       "    </tr>\n",
       "    <tr>\n",
       "      <th>3</th>\n",
       "      <td>dKMBWoZyScdxSkihKG+Vf47nc18N9q4m58+b4e7dSSE=</td>\n",
       "      <td>273554</td>\n",
       "      <td>465</td>\n",
       "      <td>S.H.E</td>\n",
       "      <td>湯小康</td>\n",
       "      <td>徐世珍</td>\n",
       "      <td>3.0</td>\n",
       "    </tr>\n",
       "    <tr>\n",
       "      <th>4</th>\n",
       "      <td>W3bqWd3T+VeHFzHAUfARgW9AvVRaF4N5Yzm4Mr6Eo/o=</td>\n",
       "      <td>140329</td>\n",
       "      <td>726</td>\n",
       "      <td>貴族精選</td>\n",
       "      <td>Traditional</td>\n",
       "      <td>Traditional</td>\n",
       "      <td>52.0</td>\n",
       "    </tr>\n",
       "  </tbody>\n",
       "</table>\n",
       "</div>"
      ],
      "text/plain": [
       "                                        song_id  song_length genre_ids  \\\n",
       "0  CXoTN1eb7AI+DntdU1vbcwGRV4SCIDxZu+YD8JP8r4E=       247640       465   \n",
       "1  o0kFgae9QtnYgRkVPqLJwa05zIhRlUjfF7O1tDw0ZDU=       197328       444   \n",
       "2  DwVvVurfpuz+XPuFvucclVQEyPqcpUkHR0ne1RQzPs0=       231781       465   \n",
       "3  dKMBWoZyScdxSkihKG+Vf47nc18N9q4m58+b4e7dSSE=       273554       465   \n",
       "4  W3bqWd3T+VeHFzHAUfARgW9AvVRaF4N5Yzm4Mr6Eo/o=       140329       726   \n",
       "\n",
       "        artist_name                            composer     lyricist  language  \n",
       "0  張信哲 (Jeff Chang)                                  董貞          何啟弘       3.0  \n",
       "1         BLACKPINK  TEDDY|  FUTURE BOUNCE|  Bekuh BOOM        TEDDY      31.0  \n",
       "2      SUPER JUNIOR                                 NaN          NaN      31.0  \n",
       "3             S.H.E                                 湯小康          徐世珍       3.0  \n",
       "4              貴族精選                         Traditional  Traditional      52.0  "
      ]
     },
     "execution_count": 10,
     "metadata": {},
     "output_type": "execute_result"
    }
   ],
   "source": [
    "print(df_song_extra_info.shape)\n",
    "df_song_extra_info.head(5)"
   ]
  },
  {
   "cell_type": "code",
   "execution_count": 11,
   "metadata": {},
   "outputs": [
    {
     "name": "stdout",
     "output_type": "stream",
     "text": [
      "(2295971, 3)\n"
     ]
    },
    {
     "data": {
      "text/html": [
       "<div>\n",
       "<style scoped>\n",
       "    .dataframe tbody tr th:only-of-type {\n",
       "        vertical-align: middle;\n",
       "    }\n",
       "\n",
       "    .dataframe tbody tr th {\n",
       "        vertical-align: top;\n",
       "    }\n",
       "\n",
       "    .dataframe thead th {\n",
       "        text-align: right;\n",
       "    }\n",
       "</style>\n",
       "<table border=\"1\" class=\"dataframe\">\n",
       "  <thead>\n",
       "    <tr style=\"text-align: right;\">\n",
       "      <th></th>\n",
       "      <th>song_id</th>\n",
       "      <th>name</th>\n",
       "      <th>isrc</th>\n",
       "    </tr>\n",
       "  </thead>\n",
       "  <tbody>\n",
       "    <tr>\n",
       "      <th>0</th>\n",
       "      <td>LP7pLJoJFBvyuUwvu+oLzjT+bI+UeBPURCecJsX1jjs=</td>\n",
       "      <td>我們</td>\n",
       "      <td>TWUM71200043</td>\n",
       "    </tr>\n",
       "    <tr>\n",
       "      <th>1</th>\n",
       "      <td>ClazTFnk6r0Bnuie44bocdNMM3rdlrq0bCGAsGUWcHE=</td>\n",
       "      <td>Let Me Love You</td>\n",
       "      <td>QMZSY1600015</td>\n",
       "    </tr>\n",
       "    <tr>\n",
       "      <th>2</th>\n",
       "      <td>u2ja/bZE3zhCGxvbbOB3zOoUjx27u40cf5g09UXMoKQ=</td>\n",
       "      <td>原諒我</td>\n",
       "      <td>TWA530887303</td>\n",
       "    </tr>\n",
       "    <tr>\n",
       "      <th>3</th>\n",
       "      <td>92Fqsy0+p6+RHe2EoLKjHahORHR1Kq1TBJoClW9v+Ts=</td>\n",
       "      <td>Classic</td>\n",
       "      <td>USSM11301446</td>\n",
       "    </tr>\n",
       "    <tr>\n",
       "      <th>4</th>\n",
       "      <td>0QFmz/+rJy1Q56C1DuYqT9hKKqi5TUqx0sN0IwvoHrw=</td>\n",
       "      <td>愛投羅網</td>\n",
       "      <td>TWA471306001</td>\n",
       "    </tr>\n",
       "  </tbody>\n",
       "</table>\n",
       "</div>"
      ],
      "text/plain": [
       "                                        song_id             name          isrc\n",
       "0  LP7pLJoJFBvyuUwvu+oLzjT+bI+UeBPURCecJsX1jjs=               我們  TWUM71200043\n",
       "1  ClazTFnk6r0Bnuie44bocdNMM3rdlrq0bCGAsGUWcHE=  Let Me Love You  QMZSY1600015\n",
       "2  u2ja/bZE3zhCGxvbbOB3zOoUjx27u40cf5g09UXMoKQ=              原諒我  TWA530887303\n",
       "3  92Fqsy0+p6+RHe2EoLKjHahORHR1Kq1TBJoClW9v+Ts=          Classic  USSM11301446\n",
       "4  0QFmz/+rJy1Q56C1DuYqT9hKKqi5TUqx0sN0IwvoHrw=             愛投羅網  TWA471306001"
      ]
     },
     "execution_count": 11,
     "metadata": {},
     "output_type": "execute_result"
    }
   ],
   "source": [
    "print(df_songs.shape)\n",
    "df_songs.head(5)"
   ]
  },
  {
   "cell_type": "code",
   "execution_count": 12,
   "metadata": {},
   "outputs": [
    {
     "name": "stdout",
     "output_type": "stream",
     "text": [
      "(2556790, 6)\n"
     ]
    },
    {
     "data": {
      "text/html": [
       "<div>\n",
       "<style scoped>\n",
       "    .dataframe tbody tr th:only-of-type {\n",
       "        vertical-align: middle;\n",
       "    }\n",
       "\n",
       "    .dataframe tbody tr th {\n",
       "        vertical-align: top;\n",
       "    }\n",
       "\n",
       "    .dataframe thead th {\n",
       "        text-align: right;\n",
       "    }\n",
       "</style>\n",
       "<table border=\"1\" class=\"dataframe\">\n",
       "  <thead>\n",
       "    <tr style=\"text-align: right;\">\n",
       "      <th></th>\n",
       "      <th>id</th>\n",
       "      <th>msno</th>\n",
       "      <th>song_id</th>\n",
       "      <th>source_system_tab</th>\n",
       "      <th>source_screen_name</th>\n",
       "      <th>source_type</th>\n",
       "    </tr>\n",
       "  </thead>\n",
       "  <tbody>\n",
       "    <tr>\n",
       "      <th>0</th>\n",
       "      <td>0</td>\n",
       "      <td>V8ruy7SGk7tDm3zA51DPpn6qutt+vmKMBKa21dp54uM=</td>\n",
       "      <td>WmHKgKMlp1lQMecNdNvDMkvIycZYHnFwDT72I5sIssc=</td>\n",
       "      <td>my library</td>\n",
       "      <td>Local playlist more</td>\n",
       "      <td>local-library</td>\n",
       "    </tr>\n",
       "    <tr>\n",
       "      <th>1</th>\n",
       "      <td>1</td>\n",
       "      <td>V8ruy7SGk7tDm3zA51DPpn6qutt+vmKMBKa21dp54uM=</td>\n",
       "      <td>y/rsZ9DC7FwK5F2PK2D5mj+aOBUJAjuu3dZ14NgE0vM=</td>\n",
       "      <td>my library</td>\n",
       "      <td>Local playlist more</td>\n",
       "      <td>local-library</td>\n",
       "    </tr>\n",
       "    <tr>\n",
       "      <th>2</th>\n",
       "      <td>2</td>\n",
       "      <td>/uQAlrAkaczV+nWCd2sPF2ekvXPRipV7q0l+gbLuxjw=</td>\n",
       "      <td>8eZLFOdGVdXBSqoAv5nsLigeH2BvKXzTQYtUM53I0k4=</td>\n",
       "      <td>discover</td>\n",
       "      <td>NaN</td>\n",
       "      <td>song-based-playlist</td>\n",
       "    </tr>\n",
       "    <tr>\n",
       "      <th>3</th>\n",
       "      <td>3</td>\n",
       "      <td>1a6oo/iXKatxQx4eS9zTVD+KlSVaAFbTIqVvwLC1Y0k=</td>\n",
       "      <td>ztCf8thYsS4YN3GcIL/bvoxLm/T5mYBVKOO4C9NiVfQ=</td>\n",
       "      <td>radio</td>\n",
       "      <td>Radio</td>\n",
       "      <td>radio</td>\n",
       "    </tr>\n",
       "    <tr>\n",
       "      <th>4</th>\n",
       "      <td>4</td>\n",
       "      <td>1a6oo/iXKatxQx4eS9zTVD+KlSVaAFbTIqVvwLC1Y0k=</td>\n",
       "      <td>MKVMpslKcQhMaFEgcEQhEfi5+RZhMYlU3eRDpySrH8Y=</td>\n",
       "      <td>radio</td>\n",
       "      <td>Radio</td>\n",
       "      <td>radio</td>\n",
       "    </tr>\n",
       "  </tbody>\n",
       "</table>\n",
       "</div>"
      ],
      "text/plain": [
       "   id                                          msno  \\\n",
       "0   0  V8ruy7SGk7tDm3zA51DPpn6qutt+vmKMBKa21dp54uM=   \n",
       "1   1  V8ruy7SGk7tDm3zA51DPpn6qutt+vmKMBKa21dp54uM=   \n",
       "2   2  /uQAlrAkaczV+nWCd2sPF2ekvXPRipV7q0l+gbLuxjw=   \n",
       "3   3  1a6oo/iXKatxQx4eS9zTVD+KlSVaAFbTIqVvwLC1Y0k=   \n",
       "4   4  1a6oo/iXKatxQx4eS9zTVD+KlSVaAFbTIqVvwLC1Y0k=   \n",
       "\n",
       "                                        song_id source_system_tab  \\\n",
       "0  WmHKgKMlp1lQMecNdNvDMkvIycZYHnFwDT72I5sIssc=        my library   \n",
       "1  y/rsZ9DC7FwK5F2PK2D5mj+aOBUJAjuu3dZ14NgE0vM=        my library   \n",
       "2  8eZLFOdGVdXBSqoAv5nsLigeH2BvKXzTQYtUM53I0k4=          discover   \n",
       "3  ztCf8thYsS4YN3GcIL/bvoxLm/T5mYBVKOO4C9NiVfQ=             radio   \n",
       "4  MKVMpslKcQhMaFEgcEQhEfi5+RZhMYlU3eRDpySrH8Y=             radio   \n",
       "\n",
       "    source_screen_name          source_type  \n",
       "0  Local playlist more        local-library  \n",
       "1  Local playlist more        local-library  \n",
       "2                  NaN  song-based-playlist  \n",
       "3                Radio                radio  \n",
       "4                Radio                radio  "
      ]
     },
     "execution_count": 12,
     "metadata": {},
     "output_type": "execute_result"
    }
   ],
   "source": [
    "print(df_test.shape)\n",
    "df_test.head(5)"
   ]
  },
  {
   "cell_type": "code",
   "execution_count": 13,
   "metadata": {},
   "outputs": [
    {
     "name": "stdout",
     "output_type": "stream",
     "text": [
      "(7377418, 6)\n"
     ]
    },
    {
     "data": {
      "text/html": [
       "<div>\n",
       "<style scoped>\n",
       "    .dataframe tbody tr th:only-of-type {\n",
       "        vertical-align: middle;\n",
       "    }\n",
       "\n",
       "    .dataframe tbody tr th {\n",
       "        vertical-align: top;\n",
       "    }\n",
       "\n",
       "    .dataframe thead th {\n",
       "        text-align: right;\n",
       "    }\n",
       "</style>\n",
       "<table border=\"1\" class=\"dataframe\">\n",
       "  <thead>\n",
       "    <tr style=\"text-align: right;\">\n",
       "      <th></th>\n",
       "      <th>msno</th>\n",
       "      <th>song_id</th>\n",
       "      <th>source_system_tab</th>\n",
       "      <th>source_screen_name</th>\n",
       "      <th>source_type</th>\n",
       "      <th>target</th>\n",
       "    </tr>\n",
       "  </thead>\n",
       "  <tbody>\n",
       "    <tr>\n",
       "      <th>0</th>\n",
       "      <td>FGtllVqz18RPiwJj/edr2gV78zirAiY/9SmYvia+kCg=</td>\n",
       "      <td>BBzumQNXUHKdEBOB7mAJuzok+IJA1c2Ryg/yzTF6tik=</td>\n",
       "      <td>explore</td>\n",
       "      <td>Explore</td>\n",
       "      <td>online-playlist</td>\n",
       "      <td>1</td>\n",
       "    </tr>\n",
       "    <tr>\n",
       "      <th>1</th>\n",
       "      <td>Xumu+NIjS6QYVxDS4/t3SawvJ7viT9hPKXmf0RtLNx8=</td>\n",
       "      <td>bhp/MpSNoqoxOIB+/l8WPqu6jldth4DIpCm3ayXnJqM=</td>\n",
       "      <td>my library</td>\n",
       "      <td>Local playlist more</td>\n",
       "      <td>local-playlist</td>\n",
       "      <td>1</td>\n",
       "    </tr>\n",
       "    <tr>\n",
       "      <th>2</th>\n",
       "      <td>Xumu+NIjS6QYVxDS4/t3SawvJ7viT9hPKXmf0RtLNx8=</td>\n",
       "      <td>JNWfrrC7zNN7BdMpsISKa4Mw+xVJYNnxXh3/Epw7QgY=</td>\n",
       "      <td>my library</td>\n",
       "      <td>Local playlist more</td>\n",
       "      <td>local-playlist</td>\n",
       "      <td>1</td>\n",
       "    </tr>\n",
       "    <tr>\n",
       "      <th>3</th>\n",
       "      <td>Xumu+NIjS6QYVxDS4/t3SawvJ7viT9hPKXmf0RtLNx8=</td>\n",
       "      <td>2A87tzfnJTSWqD7gIZHisolhe4DMdzkbd6LzO1KHjNs=</td>\n",
       "      <td>my library</td>\n",
       "      <td>Local playlist more</td>\n",
       "      <td>local-playlist</td>\n",
       "      <td>1</td>\n",
       "    </tr>\n",
       "    <tr>\n",
       "      <th>4</th>\n",
       "      <td>FGtllVqz18RPiwJj/edr2gV78zirAiY/9SmYvia+kCg=</td>\n",
       "      <td>3qm6XTZ6MOCU11x8FIVbAGH5l5uMkT3/ZalWG1oo2Gc=</td>\n",
       "      <td>explore</td>\n",
       "      <td>Explore</td>\n",
       "      <td>online-playlist</td>\n",
       "      <td>1</td>\n",
       "    </tr>\n",
       "  </tbody>\n",
       "</table>\n",
       "</div>"
      ],
      "text/plain": [
       "                                           msno  \\\n",
       "0  FGtllVqz18RPiwJj/edr2gV78zirAiY/9SmYvia+kCg=   \n",
       "1  Xumu+NIjS6QYVxDS4/t3SawvJ7viT9hPKXmf0RtLNx8=   \n",
       "2  Xumu+NIjS6QYVxDS4/t3SawvJ7viT9hPKXmf0RtLNx8=   \n",
       "3  Xumu+NIjS6QYVxDS4/t3SawvJ7viT9hPKXmf0RtLNx8=   \n",
       "4  FGtllVqz18RPiwJj/edr2gV78zirAiY/9SmYvia+kCg=   \n",
       "\n",
       "                                        song_id source_system_tab  \\\n",
       "0  BBzumQNXUHKdEBOB7mAJuzok+IJA1c2Ryg/yzTF6tik=           explore   \n",
       "1  bhp/MpSNoqoxOIB+/l8WPqu6jldth4DIpCm3ayXnJqM=        my library   \n",
       "2  JNWfrrC7zNN7BdMpsISKa4Mw+xVJYNnxXh3/Epw7QgY=        my library   \n",
       "3  2A87tzfnJTSWqD7gIZHisolhe4DMdzkbd6LzO1KHjNs=        my library   \n",
       "4  3qm6XTZ6MOCU11x8FIVbAGH5l5uMkT3/ZalWG1oo2Gc=           explore   \n",
       "\n",
       "    source_screen_name      source_type  target  \n",
       "0              Explore  online-playlist       1  \n",
       "1  Local playlist more   local-playlist       1  \n",
       "2  Local playlist more   local-playlist       1  \n",
       "3  Local playlist more   local-playlist       1  \n",
       "4              Explore  online-playlist       1  "
      ]
     },
     "execution_count": 13,
     "metadata": {},
     "output_type": "execute_result"
    }
   ],
   "source": [
    "print(df_train.shape)\n",
    "df_train.head(5)"
   ]
  },
  {
   "cell_type": "markdown",
   "metadata": {},
   "source": [
    "Дополним датафрейм df_train информацией из df_members, df_song_extra_info, df_songs."
   ]
  },
  {
   "cell_type": "code",
   "execution_count": 14,
   "metadata": {},
   "outputs": [],
   "source": [
    "df_fulldata = pd.merge(df_train, df_members, on='msno', how='left')\n",
    "df_fulldata = pd.merge(df_fulldata, df_song_extra_info, on='song_id', how='left')\n",
    "df_fulldata = pd.merge(df_fulldata, df_songs, on='song_id', how='left')"
   ]
  },
  {
   "cell_type": "markdown",
   "metadata": {},
   "source": [
    "Далее будем работать только с датафреймом df_fulldata, т.к. он содержит в себе всю необходимую информацию"
   ]
  },
  {
   "cell_type": "code",
   "execution_count": 15,
   "metadata": {},
   "outputs": [],
   "source": [
    "del df_members\n",
    "del df_sample_submission\n",
    "del df_song_extra_info\n",
    "del df_songs\n",
    "del df_test\n",
    "del df_train"
   ]
  },
  {
   "cell_type": "markdown",
   "metadata": {},
   "source": [
    "Для удобства применим label encoding к столбцам msno и song_id."
   ]
  },
  {
   "cell_type": "code",
   "execution_count": 16,
   "metadata": {},
   "outputs": [],
   "source": [
    "le_msno = LabelEncoder()\n",
    "le_song_id = LabelEncoder()\n",
    "le_msno.fit(df_fulldata['msno'])\n",
    "le_song_id.fit(df_fulldata['song_id'])\n",
    "\n",
    "df_fulldata['msno'] = le_msno.fit_transform(df_fulldata['msno'])\n",
    "df_fulldata['song_id'] = le_song_id.fit_transform(df_fulldata['song_id'])"
   ]
  },
  {
   "cell_type": "markdown",
   "metadata": {},
   "source": [
    "Разобъём столбцы с датами на столбцы с годом, месяцем и днём."
   ]
  },
  {
   "cell_type": "code",
   "execution_count": 17,
   "metadata": {},
   "outputs": [],
   "source": [
    "df_fulldata['registration_init_time'] = pd.to_datetime(df_fulldata['registration_init_time'], format='%Y%m%d')\n",
    "df_fulldata['registration_init_time_year'] = df_fulldata['registration_init_time'].dt.year\n",
    "df_fulldata['registration_init_time_month'] = df_fulldata['registration_init_time'].dt.month\n",
    "df_fulldata['registration_init_time_day'] = df_fulldata['registration_init_time'].dt.day\n",
    "df_fulldata = df_fulldata.drop(['registration_init_time'], axis=1)\n",
    "\n",
    "df_fulldata['expiration_date'] = pd.to_datetime(df_fulldata['expiration_date'],  format='%Y%m%d')\n",
    "df_fulldata['expiration_date_year'] = df_fulldata['expiration_date'].dt.year\n",
    "df_fulldata['expiration_date_month'] = df_fulldata['expiration_date'].dt.month\n",
    "df_fulldata['expiration_date_day'] = df_fulldata['expiration_date'].dt.day\n",
    "df_fulldata = df_fulldata.drop(['expiration_date'], axis=1)"
   ]
  },
  {
   "cell_type": "markdown",
   "metadata": {},
   "source": [
    "Удалим столбцы которые явно не несут в себе никакой информации."
   ]
  },
  {
   "cell_type": "code",
   "execution_count": 18,
   "metadata": {},
   "outputs": [],
   "source": [
    "df_fulldata = df_fulldata.drop(['isrc'], axis=1)"
   ]
  },
  {
   "cell_type": "code",
   "execution_count": 19,
   "metadata": {},
   "outputs": [
    {
     "data": {
      "text/html": [
       "<div>\n",
       "<style scoped>\n",
       "    .dataframe tbody tr th:only-of-type {\n",
       "        vertical-align: middle;\n",
       "    }\n",
       "\n",
       "    .dataframe tbody tr th {\n",
       "        vertical-align: top;\n",
       "    }\n",
       "\n",
       "    .dataframe thead th {\n",
       "        text-align: right;\n",
       "    }\n",
       "</style>\n",
       "<table border=\"1\" class=\"dataframe\">\n",
       "  <thead>\n",
       "    <tr style=\"text-align: right;\">\n",
       "      <th></th>\n",
       "      <th>msno</th>\n",
       "      <th>song_id</th>\n",
       "      <th>source_system_tab</th>\n",
       "      <th>source_screen_name</th>\n",
       "      <th>source_type</th>\n",
       "      <th>target</th>\n",
       "      <th>city</th>\n",
       "      <th>bd</th>\n",
       "      <th>gender</th>\n",
       "      <th>registered_via</th>\n",
       "      <th>...</th>\n",
       "      <th>composer</th>\n",
       "      <th>lyricist</th>\n",
       "      <th>language</th>\n",
       "      <th>name</th>\n",
       "      <th>registration_init_time_year</th>\n",
       "      <th>registration_init_time_month</th>\n",
       "      <th>registration_init_time_day</th>\n",
       "      <th>expiration_date_year</th>\n",
       "      <th>expiration_date_month</th>\n",
       "      <th>expiration_date_day</th>\n",
       "    </tr>\n",
       "  </thead>\n",
       "  <tbody>\n",
       "    <tr>\n",
       "      <th>0</th>\n",
       "      <td>8158</td>\n",
       "      <td>74679</td>\n",
       "      <td>explore</td>\n",
       "      <td>Explore</td>\n",
       "      <td>online-playlist</td>\n",
       "      <td>1</td>\n",
       "      <td>1</td>\n",
       "      <td>0</td>\n",
       "      <td>NaN</td>\n",
       "      <td>7</td>\n",
       "      <td>...</td>\n",
       "      <td>Dan Smith| Mark Crew</td>\n",
       "      <td>NaN</td>\n",
       "      <td>52.0</td>\n",
       "      <td>Good Grief</td>\n",
       "      <td>2012</td>\n",
       "      <td>1</td>\n",
       "      <td>2</td>\n",
       "      <td>2017</td>\n",
       "      <td>10</td>\n",
       "      <td>5</td>\n",
       "    </tr>\n",
       "    <tr>\n",
       "      <th>1</th>\n",
       "      <td>17259</td>\n",
       "      <td>223479</td>\n",
       "      <td>my library</td>\n",
       "      <td>Local playlist more</td>\n",
       "      <td>local-playlist</td>\n",
       "      <td>1</td>\n",
       "      <td>13</td>\n",
       "      <td>24</td>\n",
       "      <td>female</td>\n",
       "      <td>9</td>\n",
       "      <td>...</td>\n",
       "      <td>NaN</td>\n",
       "      <td>NaN</td>\n",
       "      <td>52.0</td>\n",
       "      <td>Lords of Cardboard</td>\n",
       "      <td>2011</td>\n",
       "      <td>5</td>\n",
       "      <td>25</td>\n",
       "      <td>2017</td>\n",
       "      <td>9</td>\n",
       "      <td>11</td>\n",
       "    </tr>\n",
       "    <tr>\n",
       "      <th>2</th>\n",
       "      <td>17259</td>\n",
       "      <td>120758</td>\n",
       "      <td>my library</td>\n",
       "      <td>Local playlist more</td>\n",
       "      <td>local-playlist</td>\n",
       "      <td>1</td>\n",
       "      <td>13</td>\n",
       "      <td>24</td>\n",
       "      <td>female</td>\n",
       "      <td>9</td>\n",
       "      <td>...</td>\n",
       "      <td>N. Jones、W. Adams、J. Lordan、D. Ingle</td>\n",
       "      <td>NaN</td>\n",
       "      <td>52.0</td>\n",
       "      <td>Hip Hop Is Dead(Album Version (Edited))</td>\n",
       "      <td>2011</td>\n",
       "      <td>5</td>\n",
       "      <td>25</td>\n",
       "      <td>2017</td>\n",
       "      <td>9</td>\n",
       "      <td>11</td>\n",
       "    </tr>\n",
       "    <tr>\n",
       "      <th>3</th>\n",
       "      <td>17259</td>\n",
       "      <td>23707</td>\n",
       "      <td>my library</td>\n",
       "      <td>Local playlist more</td>\n",
       "      <td>local-playlist</td>\n",
       "      <td>1</td>\n",
       "      <td>13</td>\n",
       "      <td>24</td>\n",
       "      <td>female</td>\n",
       "      <td>9</td>\n",
       "      <td>...</td>\n",
       "      <td>Kwadwo Donkoh</td>\n",
       "      <td>NaN</td>\n",
       "      <td>-1.0</td>\n",
       "      <td>Disco Africa</td>\n",
       "      <td>2011</td>\n",
       "      <td>5</td>\n",
       "      <td>25</td>\n",
       "      <td>2017</td>\n",
       "      <td>9</td>\n",
       "      <td>11</td>\n",
       "    </tr>\n",
       "    <tr>\n",
       "      <th>4</th>\n",
       "      <td>8158</td>\n",
       "      <td>33308</td>\n",
       "      <td>explore</td>\n",
       "      <td>Explore</td>\n",
       "      <td>online-playlist</td>\n",
       "      <td>1</td>\n",
       "      <td>1</td>\n",
       "      <td>0</td>\n",
       "      <td>NaN</td>\n",
       "      <td>7</td>\n",
       "      <td>...</td>\n",
       "      <td>Brett Young| Kelly Archer| Justin Ebach</td>\n",
       "      <td>NaN</td>\n",
       "      <td>52.0</td>\n",
       "      <td>Sleep Without You</td>\n",
       "      <td>2012</td>\n",
       "      <td>1</td>\n",
       "      <td>2</td>\n",
       "      <td>2017</td>\n",
       "      <td>10</td>\n",
       "      <td>5</td>\n",
       "    </tr>\n",
       "  </tbody>\n",
       "</table>\n",
       "<p>5 rows × 23 columns</p>\n",
       "</div>"
      ],
      "text/plain": [
       "    msno  song_id source_system_tab   source_screen_name      source_type  \\\n",
       "0   8158    74679           explore              Explore  online-playlist   \n",
       "1  17259   223479        my library  Local playlist more   local-playlist   \n",
       "2  17259   120758        my library  Local playlist more   local-playlist   \n",
       "3  17259    23707        my library  Local playlist more   local-playlist   \n",
       "4   8158    33308           explore              Explore  online-playlist   \n",
       "\n",
       "   target  city  bd  gender  registered_via  ...  \\\n",
       "0       1     1   0     NaN               7  ...   \n",
       "1       1    13  24  female               9  ...   \n",
       "2       1    13  24  female               9  ...   \n",
       "3       1    13  24  female               9  ...   \n",
       "4       1     1   0     NaN               7  ...   \n",
       "\n",
       "                                  composer lyricist language  \\\n",
       "0                     Dan Smith| Mark Crew      NaN     52.0   \n",
       "1                                      NaN      NaN     52.0   \n",
       "2     N. Jones、W. Adams、J. Lordan、D. Ingle      NaN     52.0   \n",
       "3                            Kwadwo Donkoh      NaN     -1.0   \n",
       "4  Brett Young| Kelly Archer| Justin Ebach      NaN     52.0   \n",
       "\n",
       "                                      name registration_init_time_year  \\\n",
       "0                               Good Grief                        2012   \n",
       "1                       Lords of Cardboard                        2011   \n",
       "2  Hip Hop Is Dead(Album Version (Edited))                        2011   \n",
       "3                             Disco Africa                        2011   \n",
       "4                        Sleep Without You                        2012   \n",
       "\n",
       "   registration_init_time_month registration_init_time_day  \\\n",
       "0                             1                          2   \n",
       "1                             5                         25   \n",
       "2                             5                         25   \n",
       "3                             5                         25   \n",
       "4                             1                          2   \n",
       "\n",
       "   expiration_date_year  expiration_date_month  expiration_date_day  \n",
       "0                  2017                     10                    5  \n",
       "1                  2017                      9                   11  \n",
       "2                  2017                      9                   11  \n",
       "3                  2017                      9                   11  \n",
       "4                  2017                     10                    5  \n",
       "\n",
       "[5 rows x 23 columns]"
      ]
     },
     "execution_count": 19,
     "metadata": {},
     "output_type": "execute_result"
    }
   ],
   "source": [
    "df_fulldata.head(5)"
   ]
  },
  {
   "cell_type": "markdown",
   "metadata": {},
   "source": [
    "Большинство столбцов представляют собой номинальные категориальные признаки. При этом столбец composer не соответствует нормам баз данных, т.к. в некоторых записях хранит в себе список композиторов, а не отдельного композитора."
   ]
  },
  {
   "cell_type": "markdown",
   "metadata": {},
   "source": [
    "Соберём информацию о столбцах."
   ]
  },
  {
   "cell_type": "code",
   "execution_count": 20,
   "metadata": {},
   "outputs": [
    {
     "data": {
      "text/html": [
       "<style type=\"text/css\">\n",
       "#T_a55eb_row0_col1 {\n",
       "  background-color: #fff1ab;\n",
       "  color: #000000;\n",
       "}\n",
       "#T_a55eb_row0_col2, #T_a55eb_row0_col3, #T_a55eb_row17_col1 {\n",
       "  background-color: #800026;\n",
       "  color: #f1f1f1;\n",
       "}\n",
       "#T_a55eb_row1_col1, #T_a55eb_row3_col1, #T_a55eb_row4_col1, #T_a55eb_row5_col1, #T_a55eb_row6_col1, #T_a55eb_row7_col2, #T_a55eb_row7_col3, #T_a55eb_row8_col1, #T_a55eb_row8_col2, #T_a55eb_row8_col3, #T_a55eb_row9_col2, #T_a55eb_row9_col3, #T_a55eb_row10_col2, #T_a55eb_row10_col3, #T_a55eb_row11_col1, #T_a55eb_row11_col2, #T_a55eb_row11_col3, #T_a55eb_row12_col1, #T_a55eb_row12_col2, #T_a55eb_row12_col3, #T_a55eb_row13_col1, #T_a55eb_row13_col2, #T_a55eb_row13_col3, #T_a55eb_row14_col1, #T_a55eb_row14_col2, #T_a55eb_row14_col3, #T_a55eb_row15_col1, #T_a55eb_row15_col2, #T_a55eb_row15_col3, #T_a55eb_row16_col2, #T_a55eb_row16_col3, #T_a55eb_row17_col2, #T_a55eb_row17_col3, #T_a55eb_row18_col1, #T_a55eb_row18_col2, #T_a55eb_row18_col3, #T_a55eb_row19_col1, #T_a55eb_row19_col2, #T_a55eb_row19_col3, #T_a55eb_row20_col1, #T_a55eb_row20_col2, #T_a55eb_row20_col3, #T_a55eb_row21_col1, #T_a55eb_row21_col2, #T_a55eb_row21_col3, #T_a55eb_row22_col1, #T_a55eb_row22_col2, #T_a55eb_row22_col3 {\n",
       "  background-color: #ffffcc;\n",
       "  color: #000000;\n",
       "}\n",
       "#T_a55eb_row1_col2, #T_a55eb_row1_col3 {\n",
       "  background-color: #a10026;\n",
       "  color: #f1f1f1;\n",
       "}\n",
       "#T_a55eb_row2_col1 {\n",
       "  background-color: #fedf83;\n",
       "  color: #000000;\n",
       "}\n",
       "#T_a55eb_row2_col2, #T_a55eb_row2_col3 {\n",
       "  background-color: #fd8038;\n",
       "  color: #f1f1f1;\n",
       "}\n",
       "#T_a55eb_row3_col2, #T_a55eb_row3_col3 {\n",
       "  background-color: #ffec9f;\n",
       "  color: #000000;\n",
       "}\n",
       "#T_a55eb_row4_col2, #T_a55eb_row4_col3 {\n",
       "  background-color: #fffac0;\n",
       "  color: #000000;\n",
       "}\n",
       "#T_a55eb_row5_col2, #T_a55eb_row5_col3 {\n",
       "  background-color: #fffec9;\n",
       "  color: #000000;\n",
       "}\n",
       "#T_a55eb_row6_col2, #T_a55eb_row6_col3 {\n",
       "  background-color: #fffecb;\n",
       "  color: #000000;\n",
       "}\n",
       "#T_a55eb_row7_col1 {\n",
       "  background-color: #f74327;\n",
       "  color: #f1f1f1;\n",
       "}\n",
       "#T_a55eb_row9_col1 {\n",
       "  background-color: #ffe793;\n",
       "  color: #000000;\n",
       "}\n",
       "#T_a55eb_row10_col1 {\n",
       "  background-color: #ffefa5;\n",
       "  color: #000000;\n",
       "}\n",
       "#T_a55eb_row16_col1 {\n",
       "  background-color: #fff3af;\n",
       "  color: #000000;\n",
       "}\n",
       "</style>\n",
       "<table id=\"T_a55eb\">\n",
       "  <thead>\n",
       "    <tr>\n",
       "      <th class=\"blank level0\" >&nbsp;</th>\n",
       "      <th id=\"T_a55eb_level0_col0\" class=\"col_heading level0 col0\" >Data Type</th>\n",
       "      <th id=\"T_a55eb_level0_col1\" class=\"col_heading level0 col1\" >Unique Values</th>\n",
       "      <th id=\"T_a55eb_level0_col2\" class=\"col_heading level0 col2\" >Null Values</th>\n",
       "      <th id=\"T_a55eb_level0_col3\" class=\"col_heading level0 col3\" >% null Values</th>\n",
       "    </tr>\n",
       "  </thead>\n",
       "  <tbody>\n",
       "    <tr>\n",
       "      <th id=\"T_a55eb_level0_row0\" class=\"row_heading level0 row0\" >lyricist</th>\n",
       "      <td id=\"T_a55eb_row0_col0\" class=\"data row0 col0\" >object</td>\n",
       "      <td id=\"T_a55eb_row0_col1\" class=\"data row0 col1\" >33887</td>\n",
       "      <td id=\"T_a55eb_row0_col2\" class=\"data row0 col2\" >3178812</td>\n",
       "      <td id=\"T_a55eb_row0_col3\" class=\"data row0 col3\" >0.430884</td>\n",
       "    </tr>\n",
       "    <tr>\n",
       "      <th id=\"T_a55eb_level0_row1\" class=\"row_heading level0 row1\" >gender</th>\n",
       "      <td id=\"T_a55eb_row1_col0\" class=\"data row1 col0\" >object</td>\n",
       "      <td id=\"T_a55eb_row1_col1\" class=\"data row1 col1\" >2</td>\n",
       "      <td id=\"T_a55eb_row1_col2\" class=\"data row1 col2\" >2961479</td>\n",
       "      <td id=\"T_a55eb_row1_col3\" class=\"data row1 col3\" >0.401425</td>\n",
       "    </tr>\n",
       "    <tr>\n",
       "      <th id=\"T_a55eb_level0_row2\" class=\"row_heading level0 row2\" >composer</th>\n",
       "      <td id=\"T_a55eb_row2_col0\" class=\"data row2 col0\" >object</td>\n",
       "      <td id=\"T_a55eb_row2_col1\" class=\"data row2 col1\" >76064</td>\n",
       "      <td id=\"T_a55eb_row2_col2\" class=\"data row2 col2\" >1675706</td>\n",
       "      <td id=\"T_a55eb_row2_col3\" class=\"data row2 col3\" >0.227140</td>\n",
       "    </tr>\n",
       "    <tr>\n",
       "      <th id=\"T_a55eb_level0_row3\" class=\"row_heading level0 row3\" >source_screen_name</th>\n",
       "      <td id=\"T_a55eb_row3_col0\" class=\"data row3 col0\" >object</td>\n",
       "      <td id=\"T_a55eb_row3_col1\" class=\"data row3 col1\" >20</td>\n",
       "      <td id=\"T_a55eb_row3_col2\" class=\"data row3 col2\" >414804</td>\n",
       "      <td id=\"T_a55eb_row3_col3\" class=\"data row3 col3\" >0.056226</td>\n",
       "    </tr>\n",
       "    <tr>\n",
       "      <th id=\"T_a55eb_level0_row4\" class=\"row_heading level0 row4\" >genre_ids</th>\n",
       "      <td id=\"T_a55eb_row4_col0\" class=\"data row4 col0\" >object</td>\n",
       "      <td id=\"T_a55eb_row4_col1\" class=\"data row4 col1\" >572</td>\n",
       "      <td id=\"T_a55eb_row4_col2\" class=\"data row4 col2\" >118455</td>\n",
       "      <td id=\"T_a55eb_row4_col3\" class=\"data row4 col3\" >0.016056</td>\n",
       "    </tr>\n",
       "    <tr>\n",
       "      <th id=\"T_a55eb_level0_row5\" class=\"row_heading level0 row5\" >source_system_tab</th>\n",
       "      <td id=\"T_a55eb_row5_col0\" class=\"data row5 col0\" >object</td>\n",
       "      <td id=\"T_a55eb_row5_col1\" class=\"data row5 col1\" >8</td>\n",
       "      <td id=\"T_a55eb_row5_col2\" class=\"data row5 col2\" >24849</td>\n",
       "      <td id=\"T_a55eb_row5_col3\" class=\"data row5 col3\" >0.003368</td>\n",
       "    </tr>\n",
       "    <tr>\n",
       "      <th id=\"T_a55eb_level0_row6\" class=\"row_heading level0 row6\" >source_type</th>\n",
       "      <td id=\"T_a55eb_row6_col0\" class=\"data row6 col0\" >object</td>\n",
       "      <td id=\"T_a55eb_row6_col1\" class=\"data row6 col1\" >12</td>\n",
       "      <td id=\"T_a55eb_row6_col2\" class=\"data row6 col2\" >21539</td>\n",
       "      <td id=\"T_a55eb_row6_col3\" class=\"data row6 col3\" >0.002920</td>\n",
       "    </tr>\n",
       "    <tr>\n",
       "      <th id=\"T_a55eb_level0_row7\" class=\"row_heading level0 row7\" >name</th>\n",
       "      <td id=\"T_a55eb_row7_col0\" class=\"data row7 col0\" >object</td>\n",
       "      <td id=\"T_a55eb_row7_col1\" class=\"data row7 col1\" >234144</td>\n",
       "      <td id=\"T_a55eb_row7_col2\" class=\"data row7 col2\" >1457</td>\n",
       "      <td id=\"T_a55eb_row7_col3\" class=\"data row7 col3\" >0.000197</td>\n",
       "    </tr>\n",
       "    <tr>\n",
       "      <th id=\"T_a55eb_level0_row8\" class=\"row_heading level0 row8\" >language</th>\n",
       "      <td id=\"T_a55eb_row8_col0\" class=\"data row8 col0\" >float64</td>\n",
       "      <td id=\"T_a55eb_row8_col1\" class=\"data row8 col1\" >10</td>\n",
       "      <td id=\"T_a55eb_row8_col2\" class=\"data row8 col2\" >150</td>\n",
       "      <td id=\"T_a55eb_row8_col3\" class=\"data row8 col3\" >0.000020</td>\n",
       "    </tr>\n",
       "    <tr>\n",
       "      <th id=\"T_a55eb_level0_row9\" class=\"row_heading level0 row9\" >song_length</th>\n",
       "      <td id=\"T_a55eb_row9_col0\" class=\"data row9 col0\" >float64</td>\n",
       "      <td id=\"T_a55eb_row9_col1\" class=\"data row9 col1\" >60266</td>\n",
       "      <td id=\"T_a55eb_row9_col2\" class=\"data row9 col2\" >114</td>\n",
       "      <td id=\"T_a55eb_row9_col3\" class=\"data row9 col3\" >0.000015</td>\n",
       "    </tr>\n",
       "    <tr>\n",
       "      <th id=\"T_a55eb_level0_row10\" class=\"row_heading level0 row10\" >artist_name</th>\n",
       "      <td id=\"T_a55eb_row10_col0\" class=\"data row10 col0\" >object</td>\n",
       "      <td id=\"T_a55eb_row10_col1\" class=\"data row10 col1\" >40582</td>\n",
       "      <td id=\"T_a55eb_row10_col2\" class=\"data row10 col2\" >114</td>\n",
       "      <td id=\"T_a55eb_row10_col3\" class=\"data row10 col3\" >0.000015</td>\n",
       "    </tr>\n",
       "    <tr>\n",
       "      <th id=\"T_a55eb_level0_row11\" class=\"row_heading level0 row11\" >expiration_date_month</th>\n",
       "      <td id=\"T_a55eb_row11_col0\" class=\"data row11 col0\" >int32</td>\n",
       "      <td id=\"T_a55eb_row11_col1\" class=\"data row11 col1\" >12</td>\n",
       "      <td id=\"T_a55eb_row11_col2\" class=\"data row11 col2\" >0</td>\n",
       "      <td id=\"T_a55eb_row11_col3\" class=\"data row11 col3\" >0.000000</td>\n",
       "    </tr>\n",
       "    <tr>\n",
       "      <th id=\"T_a55eb_level0_row12\" class=\"row_heading level0 row12\" >expiration_date_year</th>\n",
       "      <td id=\"T_a55eb_row12_col0\" class=\"data row12 col0\" >int32</td>\n",
       "      <td id=\"T_a55eb_row12_col1\" class=\"data row12 col1\" >18</td>\n",
       "      <td id=\"T_a55eb_row12_col2\" class=\"data row12 col2\" >0</td>\n",
       "      <td id=\"T_a55eb_row12_col3\" class=\"data row12 col3\" >0.000000</td>\n",
       "    </tr>\n",
       "    <tr>\n",
       "      <th id=\"T_a55eb_level0_row13\" class=\"row_heading level0 row13\" >registration_init_time_day</th>\n",
       "      <td id=\"T_a55eb_row13_col0\" class=\"data row13 col0\" >int32</td>\n",
       "      <td id=\"T_a55eb_row13_col1\" class=\"data row13 col1\" >31</td>\n",
       "      <td id=\"T_a55eb_row13_col2\" class=\"data row13 col2\" >0</td>\n",
       "      <td id=\"T_a55eb_row13_col3\" class=\"data row13 col3\" >0.000000</td>\n",
       "    </tr>\n",
       "    <tr>\n",
       "      <th id=\"T_a55eb_level0_row14\" class=\"row_heading level0 row14\" >registration_init_time_month</th>\n",
       "      <td id=\"T_a55eb_row14_col0\" class=\"data row14 col0\" >int32</td>\n",
       "      <td id=\"T_a55eb_row14_col1\" class=\"data row14 col1\" >12</td>\n",
       "      <td id=\"T_a55eb_row14_col2\" class=\"data row14 col2\" >0</td>\n",
       "      <td id=\"T_a55eb_row14_col3\" class=\"data row14 col3\" >0.000000</td>\n",
       "    </tr>\n",
       "    <tr>\n",
       "      <th id=\"T_a55eb_level0_row15\" class=\"row_heading level0 row15\" >registration_init_time_year</th>\n",
       "      <td id=\"T_a55eb_row15_col0\" class=\"data row15 col0\" >int32</td>\n",
       "      <td id=\"T_a55eb_row15_col1\" class=\"data row15 col1\" >14</td>\n",
       "      <td id=\"T_a55eb_row15_col2\" class=\"data row15 col2\" >0</td>\n",
       "      <td id=\"T_a55eb_row15_col3\" class=\"data row15 col3\" >0.000000</td>\n",
       "    </tr>\n",
       "    <tr>\n",
       "      <th id=\"T_a55eb_level0_row16\" class=\"row_heading level0 row16\" >msno</th>\n",
       "      <td id=\"T_a55eb_row16_col0\" class=\"data row16 col0\" >int32</td>\n",
       "      <td id=\"T_a55eb_row16_col1\" class=\"data row16 col1\" >30755</td>\n",
       "      <td id=\"T_a55eb_row16_col2\" class=\"data row16 col2\" >0</td>\n",
       "      <td id=\"T_a55eb_row16_col3\" class=\"data row16 col3\" >0.000000</td>\n",
       "    </tr>\n",
       "    <tr>\n",
       "      <th id=\"T_a55eb_level0_row17\" class=\"row_heading level0 row17\" >song_id</th>\n",
       "      <td id=\"T_a55eb_row17_col0\" class=\"data row17 col0\" >int32</td>\n",
       "      <td id=\"T_a55eb_row17_col1\" class=\"data row17 col1\" >359966</td>\n",
       "      <td id=\"T_a55eb_row17_col2\" class=\"data row17 col2\" >0</td>\n",
       "      <td id=\"T_a55eb_row17_col3\" class=\"data row17 col3\" >0.000000</td>\n",
       "    </tr>\n",
       "    <tr>\n",
       "      <th id=\"T_a55eb_level0_row18\" class=\"row_heading level0 row18\" >registered_via</th>\n",
       "      <td id=\"T_a55eb_row18_col0\" class=\"data row18 col0\" >int64</td>\n",
       "      <td id=\"T_a55eb_row18_col1\" class=\"data row18 col1\" >5</td>\n",
       "      <td id=\"T_a55eb_row18_col2\" class=\"data row18 col2\" >0</td>\n",
       "      <td id=\"T_a55eb_row18_col3\" class=\"data row18 col3\" >0.000000</td>\n",
       "    </tr>\n",
       "    <tr>\n",
       "      <th id=\"T_a55eb_level0_row19\" class=\"row_heading level0 row19\" >bd</th>\n",
       "      <td id=\"T_a55eb_row19_col0\" class=\"data row19 col0\" >int64</td>\n",
       "      <td id=\"T_a55eb_row19_col1\" class=\"data row19 col1\" >92</td>\n",
       "      <td id=\"T_a55eb_row19_col2\" class=\"data row19 col2\" >0</td>\n",
       "      <td id=\"T_a55eb_row19_col3\" class=\"data row19 col3\" >0.000000</td>\n",
       "    </tr>\n",
       "    <tr>\n",
       "      <th id=\"T_a55eb_level0_row20\" class=\"row_heading level0 row20\" >city</th>\n",
       "      <td id=\"T_a55eb_row20_col0\" class=\"data row20 col0\" >int64</td>\n",
       "      <td id=\"T_a55eb_row20_col1\" class=\"data row20 col1\" >21</td>\n",
       "      <td id=\"T_a55eb_row20_col2\" class=\"data row20 col2\" >0</td>\n",
       "      <td id=\"T_a55eb_row20_col3\" class=\"data row20 col3\" >0.000000</td>\n",
       "    </tr>\n",
       "    <tr>\n",
       "      <th id=\"T_a55eb_level0_row21\" class=\"row_heading level0 row21\" >target</th>\n",
       "      <td id=\"T_a55eb_row21_col0\" class=\"data row21 col0\" >int64</td>\n",
       "      <td id=\"T_a55eb_row21_col1\" class=\"data row21 col1\" >2</td>\n",
       "      <td id=\"T_a55eb_row21_col2\" class=\"data row21 col2\" >0</td>\n",
       "      <td id=\"T_a55eb_row21_col3\" class=\"data row21 col3\" >0.000000</td>\n",
       "    </tr>\n",
       "    <tr>\n",
       "      <th id=\"T_a55eb_level0_row22\" class=\"row_heading level0 row22\" >expiration_date_day</th>\n",
       "      <td id=\"T_a55eb_row22_col0\" class=\"data row22 col0\" >int32</td>\n",
       "      <td id=\"T_a55eb_row22_col1\" class=\"data row22 col1\" >31</td>\n",
       "      <td id=\"T_a55eb_row22_col2\" class=\"data row22 col2\" >0</td>\n",
       "      <td id=\"T_a55eb_row22_col3\" class=\"data row22 col3\" >0.000000</td>\n",
       "    </tr>\n",
       "  </tbody>\n",
       "</table>\n"
      ],
      "text/plain": [
       "<pandas.io.formats.style.Styler at 0x192f824a610>"
      ]
     },
     "execution_count": 20,
     "metadata": {},
     "output_type": "execute_result"
    }
   ],
   "source": [
    "dtypes = pd.DataFrame(df_fulldata.dtypes,columns=[\"Data Type\"])\n",
    "dtypes[\"Unique Values\"]=df_fulldata.nunique().sort_values(ascending=True)\n",
    "dtypes[\"Null Values\"]=df_fulldata.isnull().sum()\n",
    "dtypes[\"% null Values\"]=df_fulldata.isnull().sum()/len(df_fulldata)\n",
    "dtypes.sort_values(by=\"Null Values\" , ascending=False).style.background_gradient(cmap='YlOrRd',axis=0)"
   ]
  },
  {
   "cell_type": "markdown",
   "metadata": {},
   "source": [
    "Видим, что в некоторых столбцах довольно много пропущенных значений. Заменим пропущенные значения."
   ]
  },
  {
   "cell_type": "code",
   "execution_count": 21,
   "metadata": {},
   "outputs": [],
   "source": [
    "for col in df_fulldata.select_dtypes(include=['object']).columns:\n",
    "    df_fulldata[col] = df_fulldata[col].fillna(value = \"unknown\")\n",
    " \n",
    "for col in df_fulldata.select_dtypes(exclude=['object']).columns:\n",
    "    df_fulldata[col] = df_fulldata[col].fillna(value = df_fulldata[col].mean())"
   ]
  },
  {
   "cell_type": "code",
   "execution_count": 22,
   "metadata": {},
   "outputs": [],
   "source": [
    "for col in df_fulldata.select_dtypes(include=['object']).columns:\n",
    "    df_fulldata[col] = df_fulldata[col].astype('category')\n",
    "    \n",
    "for col in df_fulldata.select_dtypes(include=['category']).columns:\n",
    "    df_fulldata[col] = df_fulldata[col].cat.codes"
   ]
  },
  {
   "cell_type": "code",
   "execution_count": 23,
   "metadata": {},
   "outputs": [
    {
     "data": {
      "text/html": [
       "<style type=\"text/css\">\n",
       "#T_fce31_row0_col1 {\n",
       "  background-color: #fff3af;\n",
       "  color: #000000;\n",
       "}\n",
       "#T_fce31_row0_col2, #T_fce31_row0_col3, #T_fce31_row1_col2, #T_fce31_row1_col3, #T_fce31_row2_col1, #T_fce31_row2_col2, #T_fce31_row2_col3, #T_fce31_row3_col1, #T_fce31_row3_col2, #T_fce31_row3_col3, #T_fce31_row4_col1, #T_fce31_row4_col2, #T_fce31_row4_col3, #T_fce31_row5_col1, #T_fce31_row5_col2, #T_fce31_row5_col3, #T_fce31_row6_col1, #T_fce31_row6_col2, #T_fce31_row6_col3, #T_fce31_row7_col2, #T_fce31_row7_col3, #T_fce31_row8_col1, #T_fce31_row8_col2, #T_fce31_row8_col3, #T_fce31_row9_col2, #T_fce31_row9_col3, #T_fce31_row10_col2, #T_fce31_row10_col3, #T_fce31_row11_col1, #T_fce31_row11_col2, #T_fce31_row11_col3, #T_fce31_row12_col2, #T_fce31_row12_col3, #T_fce31_row13_col2, #T_fce31_row13_col3, #T_fce31_row14_col1, #T_fce31_row14_col2, #T_fce31_row14_col3, #T_fce31_row15_col1, #T_fce31_row15_col2, #T_fce31_row15_col3, #T_fce31_row16_col1, #T_fce31_row16_col2, #T_fce31_row16_col3, #T_fce31_row17_col1, #T_fce31_row17_col2, #T_fce31_row17_col3, #T_fce31_row18_col1, #T_fce31_row18_col2, #T_fce31_row18_col3, #T_fce31_row19_col1, #T_fce31_row19_col2, #T_fce31_row19_col3, #T_fce31_row20_col1, #T_fce31_row20_col2, #T_fce31_row20_col3, #T_fce31_row21_col1, #T_fce31_row21_col2, #T_fce31_row21_col3, #T_fce31_row22_col1, #T_fce31_row22_col2, #T_fce31_row22_col3 {\n",
       "  background-color: #ffffcc;\n",
       "  color: #000000;\n",
       "}\n",
       "#T_fce31_row1_col1 {\n",
       "  background-color: #ffefa5;\n",
       "  color: #000000;\n",
       "}\n",
       "#T_fce31_row7_col1 {\n",
       "  background-color: #f74327;\n",
       "  color: #f1f1f1;\n",
       "}\n",
       "#T_fce31_row9_col1 {\n",
       "  background-color: #fff1ab;\n",
       "  color: #000000;\n",
       "}\n",
       "#T_fce31_row10_col1 {\n",
       "  background-color: #fedf83;\n",
       "  color: #000000;\n",
       "}\n",
       "#T_fce31_row12_col1 {\n",
       "  background-color: #800026;\n",
       "  color: #f1f1f1;\n",
       "}\n",
       "#T_fce31_row13_col1 {\n",
       "  background-color: #ffe793;\n",
       "  color: #000000;\n",
       "}\n",
       "</style>\n",
       "<table id=\"T_fce31\">\n",
       "  <thead>\n",
       "    <tr>\n",
       "      <th class=\"blank level0\" >&nbsp;</th>\n",
       "      <th id=\"T_fce31_level0_col0\" class=\"col_heading level0 col0\" >Data Type</th>\n",
       "      <th id=\"T_fce31_level0_col1\" class=\"col_heading level0 col1\" >Unique Values</th>\n",
       "      <th id=\"T_fce31_level0_col2\" class=\"col_heading level0 col2\" >Null Values</th>\n",
       "      <th id=\"T_fce31_level0_col3\" class=\"col_heading level0 col3\" >% null Values</th>\n",
       "    </tr>\n",
       "  </thead>\n",
       "  <tbody>\n",
       "    <tr>\n",
       "      <th id=\"T_fce31_level0_row0\" class=\"row_heading level0 row0\" >msno</th>\n",
       "      <td id=\"T_fce31_row0_col0\" class=\"data row0 col0\" >int32</td>\n",
       "      <td id=\"T_fce31_row0_col1\" class=\"data row0 col1\" >30755</td>\n",
       "      <td id=\"T_fce31_row0_col2\" class=\"data row0 col2\" >0</td>\n",
       "      <td id=\"T_fce31_row0_col3\" class=\"data row0 col3\" >0.000000</td>\n",
       "    </tr>\n",
       "    <tr>\n",
       "      <th id=\"T_fce31_level0_row1\" class=\"row_heading level0 row1\" >artist_name</th>\n",
       "      <td id=\"T_fce31_row1_col0\" class=\"data row1 col0\" >int32</td>\n",
       "      <td id=\"T_fce31_row1_col1\" class=\"data row1 col1\" >40583</td>\n",
       "      <td id=\"T_fce31_row1_col2\" class=\"data row1 col2\" >0</td>\n",
       "      <td id=\"T_fce31_row1_col3\" class=\"data row1 col3\" >0.000000</td>\n",
       "    </tr>\n",
       "    <tr>\n",
       "      <th id=\"T_fce31_level0_row2\" class=\"row_heading level0 row2\" >expiration_date_month</th>\n",
       "      <td id=\"T_fce31_row2_col0\" class=\"data row2 col0\" >int32</td>\n",
       "      <td id=\"T_fce31_row2_col1\" class=\"data row2 col1\" >12</td>\n",
       "      <td id=\"T_fce31_row2_col2\" class=\"data row2 col2\" >0</td>\n",
       "      <td id=\"T_fce31_row2_col3\" class=\"data row2 col3\" >0.000000</td>\n",
       "    </tr>\n",
       "    <tr>\n",
       "      <th id=\"T_fce31_level0_row3\" class=\"row_heading level0 row3\" >expiration_date_year</th>\n",
       "      <td id=\"T_fce31_row3_col0\" class=\"data row3 col0\" >int32</td>\n",
       "      <td id=\"T_fce31_row3_col1\" class=\"data row3 col1\" >18</td>\n",
       "      <td id=\"T_fce31_row3_col2\" class=\"data row3 col2\" >0</td>\n",
       "      <td id=\"T_fce31_row3_col3\" class=\"data row3 col3\" >0.000000</td>\n",
       "    </tr>\n",
       "    <tr>\n",
       "      <th id=\"T_fce31_level0_row4\" class=\"row_heading level0 row4\" >registration_init_time_day</th>\n",
       "      <td id=\"T_fce31_row4_col0\" class=\"data row4 col0\" >int32</td>\n",
       "      <td id=\"T_fce31_row4_col1\" class=\"data row4 col1\" >31</td>\n",
       "      <td id=\"T_fce31_row4_col2\" class=\"data row4 col2\" >0</td>\n",
       "      <td id=\"T_fce31_row4_col3\" class=\"data row4 col3\" >0.000000</td>\n",
       "    </tr>\n",
       "    <tr>\n",
       "      <th id=\"T_fce31_level0_row5\" class=\"row_heading level0 row5\" >registration_init_time_month</th>\n",
       "      <td id=\"T_fce31_row5_col0\" class=\"data row5 col0\" >int32</td>\n",
       "      <td id=\"T_fce31_row5_col1\" class=\"data row5 col1\" >12</td>\n",
       "      <td id=\"T_fce31_row5_col2\" class=\"data row5 col2\" >0</td>\n",
       "      <td id=\"T_fce31_row5_col3\" class=\"data row5 col3\" >0.000000</td>\n",
       "    </tr>\n",
       "    <tr>\n",
       "      <th id=\"T_fce31_level0_row6\" class=\"row_heading level0 row6\" >registration_init_time_year</th>\n",
       "      <td id=\"T_fce31_row6_col0\" class=\"data row6 col0\" >int32</td>\n",
       "      <td id=\"T_fce31_row6_col1\" class=\"data row6 col1\" >14</td>\n",
       "      <td id=\"T_fce31_row6_col2\" class=\"data row6 col2\" >0</td>\n",
       "      <td id=\"T_fce31_row6_col3\" class=\"data row6 col3\" >0.000000</td>\n",
       "    </tr>\n",
       "    <tr>\n",
       "      <th id=\"T_fce31_level0_row7\" class=\"row_heading level0 row7\" >name</th>\n",
       "      <td id=\"T_fce31_row7_col0\" class=\"data row7 col0\" >int32</td>\n",
       "      <td id=\"T_fce31_row7_col1\" class=\"data row7 col1\" >234144</td>\n",
       "      <td id=\"T_fce31_row7_col2\" class=\"data row7 col2\" >0</td>\n",
       "      <td id=\"T_fce31_row7_col3\" class=\"data row7 col3\" >0.000000</td>\n",
       "    </tr>\n",
       "    <tr>\n",
       "      <th id=\"T_fce31_level0_row8\" class=\"row_heading level0 row8\" >language</th>\n",
       "      <td id=\"T_fce31_row8_col0\" class=\"data row8 col0\" >float64</td>\n",
       "      <td id=\"T_fce31_row8_col1\" class=\"data row8 col1\" >11</td>\n",
       "      <td id=\"T_fce31_row8_col2\" class=\"data row8 col2\" >0</td>\n",
       "      <td id=\"T_fce31_row8_col3\" class=\"data row8 col3\" >0.000000</td>\n",
       "    </tr>\n",
       "    <tr>\n",
       "      <th id=\"T_fce31_level0_row9\" class=\"row_heading level0 row9\" >lyricist</th>\n",
       "      <td id=\"T_fce31_row9_col0\" class=\"data row9 col0\" >int32</td>\n",
       "      <td id=\"T_fce31_row9_col1\" class=\"data row9 col1\" >33887</td>\n",
       "      <td id=\"T_fce31_row9_col2\" class=\"data row9 col2\" >0</td>\n",
       "      <td id=\"T_fce31_row9_col3\" class=\"data row9 col3\" >0.000000</td>\n",
       "    </tr>\n",
       "    <tr>\n",
       "      <th id=\"T_fce31_level0_row10\" class=\"row_heading level0 row10\" >composer</th>\n",
       "      <td id=\"T_fce31_row10_col0\" class=\"data row10 col0\" >int32</td>\n",
       "      <td id=\"T_fce31_row10_col1\" class=\"data row10 col1\" >76064</td>\n",
       "      <td id=\"T_fce31_row10_col2\" class=\"data row10 col2\" >0</td>\n",
       "      <td id=\"T_fce31_row10_col3\" class=\"data row10 col3\" >0.000000</td>\n",
       "    </tr>\n",
       "    <tr>\n",
       "      <th id=\"T_fce31_level0_row11\" class=\"row_heading level0 row11\" >genre_ids</th>\n",
       "      <td id=\"T_fce31_row11_col0\" class=\"data row11 col0\" >int16</td>\n",
       "      <td id=\"T_fce31_row11_col1\" class=\"data row11 col1\" >573</td>\n",
       "      <td id=\"T_fce31_row11_col2\" class=\"data row11 col2\" >0</td>\n",
       "      <td id=\"T_fce31_row11_col3\" class=\"data row11 col3\" >0.000000</td>\n",
       "    </tr>\n",
       "    <tr>\n",
       "      <th id=\"T_fce31_level0_row12\" class=\"row_heading level0 row12\" >song_id</th>\n",
       "      <td id=\"T_fce31_row12_col0\" class=\"data row12 col0\" >int32</td>\n",
       "      <td id=\"T_fce31_row12_col1\" class=\"data row12 col1\" >359966</td>\n",
       "      <td id=\"T_fce31_row12_col2\" class=\"data row12 col2\" >0</td>\n",
       "      <td id=\"T_fce31_row12_col3\" class=\"data row12 col3\" >0.000000</td>\n",
       "    </tr>\n",
       "    <tr>\n",
       "      <th id=\"T_fce31_level0_row13\" class=\"row_heading level0 row13\" >song_length</th>\n",
       "      <td id=\"T_fce31_row13_col0\" class=\"data row13 col0\" >float64</td>\n",
       "      <td id=\"T_fce31_row13_col1\" class=\"data row13 col1\" >60267</td>\n",
       "      <td id=\"T_fce31_row13_col2\" class=\"data row13 col2\" >0</td>\n",
       "      <td id=\"T_fce31_row13_col3\" class=\"data row13 col3\" >0.000000</td>\n",
       "    </tr>\n",
       "    <tr>\n",
       "      <th id=\"T_fce31_level0_row14\" class=\"row_heading level0 row14\" >registered_via</th>\n",
       "      <td id=\"T_fce31_row14_col0\" class=\"data row14 col0\" >int64</td>\n",
       "      <td id=\"T_fce31_row14_col1\" class=\"data row14 col1\" >5</td>\n",
       "      <td id=\"T_fce31_row14_col2\" class=\"data row14 col2\" >0</td>\n",
       "      <td id=\"T_fce31_row14_col3\" class=\"data row14 col3\" >0.000000</td>\n",
       "    </tr>\n",
       "    <tr>\n",
       "      <th id=\"T_fce31_level0_row15\" class=\"row_heading level0 row15\" >gender</th>\n",
       "      <td id=\"T_fce31_row15_col0\" class=\"data row15 col0\" >int8</td>\n",
       "      <td id=\"T_fce31_row15_col1\" class=\"data row15 col1\" >3</td>\n",
       "      <td id=\"T_fce31_row15_col2\" class=\"data row15 col2\" >0</td>\n",
       "      <td id=\"T_fce31_row15_col3\" class=\"data row15 col3\" >0.000000</td>\n",
       "    </tr>\n",
       "    <tr>\n",
       "      <th id=\"T_fce31_level0_row16\" class=\"row_heading level0 row16\" >bd</th>\n",
       "      <td id=\"T_fce31_row16_col0\" class=\"data row16 col0\" >int64</td>\n",
       "      <td id=\"T_fce31_row16_col1\" class=\"data row16 col1\" >92</td>\n",
       "      <td id=\"T_fce31_row16_col2\" class=\"data row16 col2\" >0</td>\n",
       "      <td id=\"T_fce31_row16_col3\" class=\"data row16 col3\" >0.000000</td>\n",
       "    </tr>\n",
       "    <tr>\n",
       "      <th id=\"T_fce31_level0_row17\" class=\"row_heading level0 row17\" >city</th>\n",
       "      <td id=\"T_fce31_row17_col0\" class=\"data row17 col0\" >int64</td>\n",
       "      <td id=\"T_fce31_row17_col1\" class=\"data row17 col1\" >21</td>\n",
       "      <td id=\"T_fce31_row17_col2\" class=\"data row17 col2\" >0</td>\n",
       "      <td id=\"T_fce31_row17_col3\" class=\"data row17 col3\" >0.000000</td>\n",
       "    </tr>\n",
       "    <tr>\n",
       "      <th id=\"T_fce31_level0_row18\" class=\"row_heading level0 row18\" >target</th>\n",
       "      <td id=\"T_fce31_row18_col0\" class=\"data row18 col0\" >int64</td>\n",
       "      <td id=\"T_fce31_row18_col1\" class=\"data row18 col1\" >2</td>\n",
       "      <td id=\"T_fce31_row18_col2\" class=\"data row18 col2\" >0</td>\n",
       "      <td id=\"T_fce31_row18_col3\" class=\"data row18 col3\" >0.000000</td>\n",
       "    </tr>\n",
       "    <tr>\n",
       "      <th id=\"T_fce31_level0_row19\" class=\"row_heading level0 row19\" >source_type</th>\n",
       "      <td id=\"T_fce31_row19_col0\" class=\"data row19 col0\" >int8</td>\n",
       "      <td id=\"T_fce31_row19_col1\" class=\"data row19 col1\" >13</td>\n",
       "      <td id=\"T_fce31_row19_col2\" class=\"data row19 col2\" >0</td>\n",
       "      <td id=\"T_fce31_row19_col3\" class=\"data row19 col3\" >0.000000</td>\n",
       "    </tr>\n",
       "    <tr>\n",
       "      <th id=\"T_fce31_level0_row20\" class=\"row_heading level0 row20\" >source_screen_name</th>\n",
       "      <td id=\"T_fce31_row20_col0\" class=\"data row20 col0\" >int8</td>\n",
       "      <td id=\"T_fce31_row20_col1\" class=\"data row20 col1\" >21</td>\n",
       "      <td id=\"T_fce31_row20_col2\" class=\"data row20 col2\" >0</td>\n",
       "      <td id=\"T_fce31_row20_col3\" class=\"data row20 col3\" >0.000000</td>\n",
       "    </tr>\n",
       "    <tr>\n",
       "      <th id=\"T_fce31_level0_row21\" class=\"row_heading level0 row21\" >source_system_tab</th>\n",
       "      <td id=\"T_fce31_row21_col0\" class=\"data row21 col0\" >int8</td>\n",
       "      <td id=\"T_fce31_row21_col1\" class=\"data row21 col1\" >9</td>\n",
       "      <td id=\"T_fce31_row21_col2\" class=\"data row21 col2\" >0</td>\n",
       "      <td id=\"T_fce31_row21_col3\" class=\"data row21 col3\" >0.000000</td>\n",
       "    </tr>\n",
       "    <tr>\n",
       "      <th id=\"T_fce31_level0_row22\" class=\"row_heading level0 row22\" >expiration_date_day</th>\n",
       "      <td id=\"T_fce31_row22_col0\" class=\"data row22 col0\" >int32</td>\n",
       "      <td id=\"T_fce31_row22_col1\" class=\"data row22 col1\" >31</td>\n",
       "      <td id=\"T_fce31_row22_col2\" class=\"data row22 col2\" >0</td>\n",
       "      <td id=\"T_fce31_row22_col3\" class=\"data row22 col3\" >0.000000</td>\n",
       "    </tr>\n",
       "  </tbody>\n",
       "</table>\n"
      ],
      "text/plain": [
       "<pandas.io.formats.style.Styler at 0x19284b80340>"
      ]
     },
     "execution_count": 23,
     "metadata": {},
     "output_type": "execute_result"
    }
   ],
   "source": [
    "dtypes = pd.DataFrame(df_fulldata.dtypes,columns=[\"Data Type\"])\n",
    "dtypes[\"Unique Values\"]=df_fulldata.nunique().sort_values(ascending=True)\n",
    "dtypes[\"Null Values\"]=df_fulldata.isnull().sum()\n",
    "dtypes[\"% null Values\"]=df_fulldata.isnull().sum()/len(df_fulldata)\n",
    "dtypes.sort_values(by=\"Null Values\" , ascending=False).style.background_gradient(cmap='YlOrRd',axis=0)"
   ]
  },
  {
   "cell_type": "markdown",
   "metadata": {},
   "source": [
    "Поскольку мы хотим использовать эти данные для построения рекомендательной системы треков для пользователей, стоит оценить сколько у нас информации о каждом пользователе.\n"
   ]
  },
  {
   "cell_type": "code",
   "execution_count": 24,
   "metadata": {},
   "outputs": [
    {
     "name": "stdout",
     "output_type": "stream",
     "text": [
      "Среднее количество данных о пользователе = 239.87702812550805\n",
      "Медианное количество данных о пользователе = 128.0\n",
      "Максимальное количество данных о пользователе = 5819\n",
      "Минимальное количество данных о пользователе = 1\n"
     ]
    },
    {
     "data": {
      "image/png": "[encoded data removed]",
      "text/plain": [
       "<Figure size 700x700 with 1 Axes>"
      ]
     },
     "metadata": {},
     "output_type": "display_data"
    }
   ],
   "source": [
    "msno_counts = df_fulldata['msno'].value_counts()\n",
    "\n",
    "print('Среднее количество данных о пользователе =', np.mean(msno_counts))\n",
    "print('Медианное количество данных о пользователе =', np.median(msno_counts))\n",
    "print('Максимальное количество данных о пользователе =', np.max(msno_counts))\n",
    "print('Минимальное количество данных о пользователе =', np.min(msno_counts))\n",
    "\n",
    "fig, ax = plt.subplots(figsize=(7, 7))\n",
    "ax.hist(df_fulldata['msno'].value_counts(),bins=1000,density=True)\n",
    "ax.set_xlim([-100, np.max(msno_counts)])\n",
    "ax.set_ylim([0, 0.01])\n",
    "plt.show()"
   ]
  },
  {
   "cell_type": "markdown",
   "metadata": {},
   "source": [
    "Из полученных данных видно, что количество информации о пользователях сильно различается. Есть пользователи о которых практически нет информации, а есть те о которых её довольно много. Однако среднее и медианное значения количества информации о пользователях можно назвать достаточным, чтобы разрабатывать рекомендательную систему."
   ]
  },
  {
   "cell_type": "markdown",
   "metadata": {},
   "source": [
    "Матрицу корреляции строить не будем, поскольку большинство значений категориальные. Из-за этого она не даст нам особо никакой информации о зависимостях в данных."
   ]
  },
  {
   "cell_type": "markdown",
   "metadata": {},
   "source": [
    "Выясним, какие признаки оказывают наибольшее влияние на target. Для этого обучим классификатор RandomForest и извлечём из него информацию о влиянии признаков на target."
   ]
  },
  {
   "cell_type": "markdown",
   "metadata": {},
   "source": [
    "Разобьём данные на тренировочную и тестовую выборку, для определения качества класссификации. RandomForest будем тренировать на пользователях о которых достаточно много информации (больше 1000 записей)."
   ]
  },
  {
   "cell_type": "code",
   "execution_count": 25,
   "metadata": {},
   "outputs": [
    {
     "name": "stdout",
     "output_type": "stream",
     "text": [
      "(1050994, 22)\n",
      "(1050994,)\n",
      "(262749, 22)\n",
      "(262749,)\n"
     ]
    }
   ],
   "source": [
    "filtered_msno = msno_counts[msno_counts > 1000].index\n",
    "\n",
    "df_fitered = df_fulldata[df_fulldata['msno'].isin(filtered_msno)]\n",
    "\n",
    "target = df_fitered['target']\n",
    "train_data, test_data, train_labels, test_labels = train_test_split(df_fitered.drop(['target'], axis=1), target, test_size = 0.2)\n",
    "\n",
    "print(train_data.shape)\n",
    "print(train_labels.shape)\n",
    "print(test_data.shape)\n",
    "print(test_labels.shape)"
   ]
  },
  {
   "cell_type": "markdown",
   "metadata": {},
   "source": [
    "Создадим и обучим модель RandomForest."
   ]
  },
  {
   "cell_type": "code",
   "execution_count": 26,
   "metadata": {},
   "outputs": [
    {
     "data": {
      "text/html": [
       "<style>#sk-container-id-1 {color: black;}#sk-container-id-1 pre{padding: 0;}#sk-container-id-1 div.sk-toggleable {background-color: white;}#sk-container-id-1 label.sk-toggleable__label {cursor: pointer;display: block;width: 100%;margin-bottom: 0;padding: 0.3em;box-sizing: border-box;text-align: center;}#sk-container-id-1 label.sk-toggleable__label-arrow:before {content: \"▸\";float: left;margin-right: 0.25em;color: #696969;}#sk-container-id-1 label.sk-toggleable__label-arrow:hover:before {color: black;}#sk-container-id-1 div.sk-estimator:hover label.sk-toggleable__label-arrow:before {color: black;}#sk-container-id-1 div.sk-toggleable__content {max-height: 0;max-width: 0;overflow: hidden;text-align: left;background-color: #f0f8ff;}#sk-container-id-1 div.sk-toggleable__content pre {margin: 0.2em;color: black;border-radius: 0.25em;background-color: #f0f8ff;}#sk-container-id-1 input.sk-toggleable__control:checked~div.sk-toggleable__content {max-height: 200px;max-width: 100%;overflow: auto;}#sk-container-id-1 input.sk-toggleable__control:checked~label.sk-toggleable__label-arrow:before {content: \"▾\";}#sk-container-id-1 div.sk-estimator input.sk-toggleable__control:checked~label.sk-toggleable__label {background-color: #d4ebff;}#sk-container-id-1 div.sk-label input.sk-toggleable__control:checked~label.sk-toggleable__label {background-color: #d4ebff;}#sk-container-id-1 input.sk-hidden--visually {border: 0;clip: rect(1px 1px 1px 1px);clip: rect(1px, 1px, 1px, 1px);height: 1px;margin: -1px;overflow: hidden;padding: 0;position: absolute;width: 1px;}#sk-container-id-1 div.sk-estimator {font-family: monospace;background-color: #f0f8ff;border: 1px dotted black;border-radius: 0.25em;box-sizing: border-box;margin-bottom: 0.5em;}#sk-container-id-1 div.sk-estimator:hover {background-color: #d4ebff;}#sk-container-id-1 div.sk-parallel-item::after {content: \"\";width: 100%;border-bottom: 1px solid gray;flex-grow: 1;}#sk-container-id-1 div.sk-label:hover label.sk-toggleable__label {background-color: #d4ebff;}#sk-container-id-1 div.sk-serial::before {content: \"\";position: absolute;border-left: 1px solid gray;box-sizing: border-box;top: 0;bottom: 0;left: 50%;z-index: 0;}#sk-container-id-1 div.sk-serial {display: flex;flex-direction: column;align-items: center;background-color: white;padding-right: 0.2em;padding-left: 0.2em;position: relative;}#sk-container-id-1 div.sk-item {position: relative;z-index: 1;}#sk-container-id-1 div.sk-parallel {display: flex;align-items: stretch;justify-content: center;background-color: white;position: relative;}#sk-container-id-1 div.sk-item::before, #sk-container-id-1 div.sk-parallel-item::before {content: \"\";position: absolute;border-left: 1px solid gray;box-sizing: border-box;top: 0;bottom: 0;left: 50%;z-index: -1;}#sk-container-id-1 div.sk-parallel-item {display: flex;flex-direction: column;z-index: 1;position: relative;background-color: white;}#sk-container-id-1 div.sk-parallel-item:first-child::after {align-self: flex-end;width: 50%;}#sk-container-id-1 div.sk-parallel-item:last-child::after {align-self: flex-start;width: 50%;}#sk-container-id-1 div.sk-parallel-item:only-child::after {width: 0;}#sk-container-id-1 div.sk-dashed-wrapped {border: 1px dashed gray;margin: 0 0.4em 0.5em 0.4em;box-sizing: border-box;padding-bottom: 0.4em;background-color: white;}#sk-container-id-1 div.sk-label label {font-family: monospace;font-weight: bold;display: inline-block;line-height: 1.2em;}#sk-container-id-1 div.sk-label-container {text-align: center;}#sk-container-id-1 div.sk-container {/* jupyter's `normalize.less` sets `[hidden] { display: none; }` but bootstrap.min.css set `[hidden] { display: none !important; }` so we also need the `!important` here to be able to override the default hidden behavior on the sphinx rendered scikit-learn.org. See: https://github.com/scikit-learn/scikit-learn/issues/21755 */display: inline-block !important;position: relative;}#sk-container-id-1 div.sk-text-repr-fallback {display: none;}</style><div id=\"sk-container-id-1\" class=\"sk-top-container\"><div class=\"sk-text-repr-fallback\"><pre>RandomForestClassifier()</pre><b>In a Jupyter environment, please rerun this cell to show the HTML representation or trust the notebook. <br />On GitHub, the HTML representation is unable to render, please try loading this page with nbviewer.org.</b></div><div class=\"sk-container\" hidden><div class=\"sk-item\"><div class=\"sk-estimator sk-toggleable\"><input class=\"sk-toggleable__control sk-hidden--visually\" id=\"sk-estimator-id-1\" type=\"checkbox\" checked><label for=\"sk-estimator-id-1\" class=\"sk-toggleable__label sk-toggleable__label-arrow\">RandomForestClassifier</label><div class=\"sk-toggleable__content\"><pre>RandomForestClassifier()</pre></div></div></div></div></div>"
      ],
      "text/plain": [
       "RandomForestClassifier()"
      ]
     },
     "execution_count": 26,
     "metadata": {},
     "output_type": "execute_result"
    }
   ],
   "source": [
    "RF = RandomForestClassifier()\n",
    "RF.fit(train_data, train_labels)"
   ]
  },
  {
   "cell_type": "markdown",
   "metadata": {},
   "source": [
    "Метод score вернёт нам mean accuracy предсказаний модели."
   ]
  },
  {
   "cell_type": "code",
   "execution_count": 27,
   "metadata": {},
   "outputs": [
    {
     "data": {
      "text/plain": [
       "0.9999961940791289"
      ]
     },
     "execution_count": 27,
     "metadata": {},
     "output_type": "execute_result"
    }
   ],
   "source": [
    "RF_TrainScore = RF.score(train_data, train_labels)\n",
    "RF_TrainScore"
   ]
  },
  {
   "cell_type": "markdown",
   "metadata": {},
   "source": [
    "На тренировочной выборке скор очень высокий, почти 100%."
   ]
  },
  {
   "cell_type": "code",
   "execution_count": 28,
   "metadata": {},
   "outputs": [
    {
     "data": {
      "text/plain": [
       "0.7174946431765677"
      ]
     },
     "execution_count": 28,
     "metadata": {},
     "output_type": "execute_result"
    }
   ],
   "source": [
    "RF_TestScore = RF.score(test_data, test_labels)\n",
    "RF_TestScore"
   ]
  },
  {
   "cell_type": "markdown",
   "metadata": {},
   "source": [
    "На тестовой выборке скор заметно ниже (72%), чем на тренировочной. Но будем считать, что эта модель достаточно хорошо справляется с классификацией."
   ]
  },
  {
   "cell_type": "markdown",
   "metadata": {},
   "source": [
    "Извлечём из неё информацию о влиянии признаков на target."
   ]
  },
  {
   "cell_type": "code",
   "execution_count": 29,
   "metadata": {},
   "outputs": [
    {
     "data": {
      "image/png": "[encoded data removed]",
      "text/plain": [
       "<Figure size 1000x700 with 1 Axes>"
      ]
     },
     "metadata": {},
     "output_type": "display_data"
    }
   ],
   "source": [
    "df_plot = pd.DataFrame({'features': train_data.columns,\n",
    "                        'importances': RF.feature_importances_})\n",
    "df_plot = df_plot.sort_values('importances', ascending=False)\n",
    "\n",
    "plt.figure(figsize=[10,7])\n",
    "sns.barplot(x = df_plot.importances, y = df_plot.features)\n",
    "plt.title('Влияние параметров на target')\n",
    "plt.show()"
   ]
  },
  {
   "cell_type": "markdown",
   "metadata": {},
   "source": [
    "Из графика выше видно, какие параметры влияют на target довольно сильно, а какие слабо."
   ]
  },
  {
   "cell_type": "markdown",
   "metadata": {},
   "source": [
    "Эту информацию можно использовать при построении рекомендательной системы, основанной на содержимом объектов рекомендации (Content-based recommendation system)."
   ]
  },
  {
   "cell_type": "markdown",
   "metadata": {},
   "source": [
    "# Выбор модели для рекомендательной системы музыки."
   ]
  },
  {
   "cell_type": "markdown",
   "metadata": {},
   "source": [
    "Для выбора модели были изучены различные ресурсы, основным источником при выборе модели стала книга \"System Design. Машинное обучение. Подготовка к сложному интервью | Али Аминиан, Алекс Сюй\". В ней описан пример построения рекомендательной системы для видео, которая в некотором приблежении может быть схожа c аналогичной системой для музыки.\n",
    "\n",
    "В книге предлагался вариант построения двух систем, на основе коллаборативной фильтрации и фильтрации на основе содержимого. Т.к. бльшинство признаков являются категориальными, построение рекомендательной системы на основе содержимого будет представлять непростую задачу. Поэтому для данного задания была выбрана коллаборативная система рекомендаций, котрая опирается на интуитивно понятную идею - \"похожих пользователей интересуют похожие объекты\".\n",
    "\n",
    "Плюсами коллаборативной системы рекомендаций:\n",
    "- Нетребовательность к вычислительным ресурсам.\n",
    "- Система сможет предлагать пользователям новые объекты, которые они до этого не слушали, на основе предпочтений похожих пользователей.\n",
    "- Для построения такой системы не требуется особое знание предметной области.\n",
    "\n",
    "Однако минусами такой системы будут:\n",
    "- Рекомендации для новых пользователей сложнее строить, т.к. по ним ещё нет особо никакой информации.\n",
    "- Система будет плохо учитывать узкие интересы пользователей.\n",
    "\n",
    "Систему рукомендаций будем строить на основе метода сингулярного разложения (SVD) матрицы обратной связи пользователь-объект."
   ]
  },
  {
   "cell_type": "markdown",
   "metadata": {},
   "source": [
    "# Подготовка данных для модели."
   ]
  },
  {
   "cell_type": "markdown",
   "metadata": {},
   "source": [
    "Для модели необходимо подготовить данные в виде матрицы обратной связи пользователь-объект. Колонками в этой матрице будут пользователи, а строками - треки. Значения в этой матрице будут представлять целевой параметр target."
   ]
  },
  {
   "cell_type": "code",
   "execution_count": 30,
   "metadata": {},
   "outputs": [],
   "source": [
    "df = df_fulldata[['msno', 'song_id', 'target']]"
   ]
  },
  {
   "cell_type": "code",
   "execution_count": 31,
   "metadata": {},
   "outputs": [
    {
     "data": {
      "text/html": [
       "<div>\n",
       "<style scoped>\n",
       "    .dataframe tbody tr th:only-of-type {\n",
       "        vertical-align: middle;\n",
       "    }\n",
       "\n",
       "    .dataframe tbody tr th {\n",
       "        vertical-align: top;\n",
       "    }\n",
       "\n",
       "    .dataframe thead th {\n",
       "        text-align: right;\n",
       "    }\n",
       "</style>\n",
       "<table border=\"1\" class=\"dataframe\">\n",
       "  <thead>\n",
       "    <tr style=\"text-align: right;\">\n",
       "      <th></th>\n",
       "      <th>msno</th>\n",
       "      <th>song_id</th>\n",
       "      <th>target</th>\n",
       "    </tr>\n",
       "  </thead>\n",
       "  <tbody>\n",
       "    <tr>\n",
       "      <th>0</th>\n",
       "      <td>8158</td>\n",
       "      <td>74679</td>\n",
       "      <td>1</td>\n",
       "    </tr>\n",
       "    <tr>\n",
       "      <th>1</th>\n",
       "      <td>17259</td>\n",
       "      <td>223479</td>\n",
       "      <td>1</td>\n",
       "    </tr>\n",
       "    <tr>\n",
       "      <th>2</th>\n",
       "      <td>17259</td>\n",
       "      <td>120758</td>\n",
       "      <td>1</td>\n",
       "    </tr>\n",
       "    <tr>\n",
       "      <th>3</th>\n",
       "      <td>17259</td>\n",
       "      <td>23707</td>\n",
       "      <td>1</td>\n",
       "    </tr>\n",
       "    <tr>\n",
       "      <th>4</th>\n",
       "      <td>8158</td>\n",
       "      <td>33308</td>\n",
       "      <td>1</td>\n",
       "    </tr>\n",
       "  </tbody>\n",
       "</table>\n",
       "</div>"
      ],
      "text/plain": [
       "    msno  song_id  target\n",
       "0   8158    74679       1\n",
       "1  17259   223479       1\n",
       "2  17259   120758       1\n",
       "3  17259    23707       1\n",
       "4   8158    33308       1"
      ]
     },
     "execution_count": 31,
     "metadata": {},
     "output_type": "execute_result"
    }
   ],
   "source": [
    "df.head(5)"
   ]
  },
  {
   "cell_type": "markdown",
   "metadata": {},
   "source": [
    "Т.к. данных очень много, 30755 пользователей и 359966 треков, матрица обратной связи будет занимать очень много места, поэтому хранить её в dense виде не получится. Однако, т.к. эта матрица будет сильно разряжена (количество треков которые слушали пользователи на порядки меньше общего количества треков) будет выгодно хранить её в sparse виде."
   ]
  },
  {
   "cell_type": "code",
   "execution_count": 32,
   "metadata": {},
   "outputs": [],
   "source": [
    "rows, r_pos = np.unique(df.values[:, 1], return_inverse=True)\n",
    "cols, c_pos = np.unique(df.values[:, 0], return_inverse=True)"
   ]
  },
  {
   "cell_type": "code",
   "execution_count": 33,
   "metadata": {},
   "outputs": [],
   "source": [
    "user_item_sparse = sparse.csr_matrix((df.values[:, 2], (r_pos, c_pos)), dtype=float)"
   ]
  },
  {
   "cell_type": "markdown",
   "metadata": {},
   "source": [
    "# Разработка модели."
   ]
  },
  {
   "cell_type": "markdown",
   "metadata": {},
   "source": [
    "Теперь разложим матрицу обратной связи с помощью метода SVD."
   ]
  },
  {
   "cell_type": "code",
   "execution_count": 34,
   "metadata": {},
   "outputs": [],
   "source": [
    "songs_vec, s, users_vec = svds(user_item_sparse, k=100)"
   ]
  },
  {
   "cell_type": "markdown",
   "metadata": {},
   "source": [
    "В итоге мы получили два массива, songs_vec и users_vec, которые содержать в себе вектора длиной 100 (параметр k в функции svds), которые характеризуют некоторым образом треки и пользователей. С помощью скалярного произведения векторов пользователей и треков можно получать значение, которое некоторым образом будет отражающать релевантность трека для пользователя."
   ]
  },
  {
   "cell_type": "markdown",
   "metadata": {},
   "source": [
    "Для примера возьмём пользователя и выберим для него 20 самых релевантных трека, согласно получившейся модели. Релевантность, как уже говорилось, будем определять по скалярному произведению вектора пользователя на вектор трека."
   ]
  },
  {
   "cell_type": "code",
   "execution_count": 35,
   "metadata": {},
   "outputs": [
    {
     "name": "stdout",
     "output_type": "stream",
     "text": [
      "список song_id рекомендованных треков для пользователя с msno = 6:\n",
      "[110714 340555  28948 119157 274683 142338 127362 350076 240881  29794\n",
      " 343047 129454 146487 281066 146965  31455 343593 177562 228489 101503]\n"
     ]
    }
   ],
   "source": [
    "relevance_list = []\n",
    "msno = 6\n",
    "\n",
    "for i in range(songs_vec.shape[0]):\n",
    "    relevance_list.append(np.matmul(users_vec[:, msno], songs_vec[i]))\n",
    "\n",
    "rec_list = np.argsort(relevance_list)[:-21:-1]\n",
    "\n",
    "print('список song_id рекомендованных треков для пользователя с msno = ', msno, ':\\n', rec_list, sep='')"
   ]
  },
  {
   "cell_type": "code",
   "execution_count": 36,
   "metadata": {},
   "outputs": [
    {
     "name": "stdout",
     "output_type": "stream",
     "text": [
      "Target треков из рекомендательной выдачи для пользователя с msno = 6\n",
      "song_id:110714\ttarget:1.0\n",
      "song_id:340555\ttarget:1.0\n",
      "song_id:28948\ttarget:0.0\n",
      "song_id:119157\ttarget:1.0\n",
      "song_id:274683\ttarget:0.0\n",
      "song_id:142338\ttarget:0.0\n",
      "song_id:127362\ttarget:1.0\n",
      "song_id:350076\ttarget:0.0\n",
      "song_id:240881\ttarget:0.0\n",
      "song_id:29794\ttarget:0.0\n",
      "song_id:343047\ttarget:0.0\n",
      "song_id:129454\ttarget:0.0\n",
      "song_id:146487\ttarget:1.0\n",
      "song_id:281066\ttarget:1.0\n",
      "song_id:146965\ttarget:1.0\n",
      "song_id:31455\ttarget:0.0\n",
      "song_id:343593\ttarget:0.0\n",
      "song_id:177562\ttarget:1.0\n",
      "song_id:228489\ttarget:0.0\n",
      "song_id:101503\ttarget:0.0\n"
     ]
    }
   ],
   "source": [
    "target_for_rec_list = [user_item_sparse[:,msno].todense().tolist()[rec_list[i]][0] for i in range(len(rec_list))]\n",
    "\n",
    "print('Target треков из рекомендательной выдачи для пользователя с msno =', msno)\n",
    "for i in range(len(rec_list)):\n",
    "    print('song_id:', rec_list[i], '\\ttarget:', target_for_rec_list[i], sep='')"
   ]
  },
  {
   "cell_type": "markdown",
   "metadata": {},
   "source": [
    "# Подбор параметров модели."
   ]
  },
  {
   "cell_type": "markdown",
   "metadata": {},
   "source": [
    "Для более качественной рекомендации настроим параметр k у нашей модели, который отвечает за длину векторов для пользователя и трека.\n",
    "\n",
    "Возьмём несколько k={150, 100, 50, 25, 15} и посмотрим на метрику NDSG@20 для 50 пользователей на каждом из них"
   ]
  },
  {
   "cell_type": "code",
   "execution_count": 37,
   "metadata": {},
   "outputs": [],
   "source": [
    "def EvaluateModel(n_users_to_chek, rec_list_length, k):\n",
    "    songs_vec, s, users_vec = svds(user_item_sparse, k=k)\n",
    "    # Массив для хранения метрик NDSG@20 по рекомендательной выдаче для пользователей\n",
    "    ndsgs = []\n",
    "\n",
    "    for msno in range(n_users_to_chek):\n",
    "        relevance_list = [] # Массив для хранения списка релевантности всех треков для пользователя\n",
    "        \n",
    "        for i in range(songs_vec.shape[0]):\n",
    "            # Cчитаем релевантность скалярным произведением вектора пользователя и вектора трека и записываем её в массив\n",
    "            relevance_list.append(np.matmul(users_vec[:, msno], songs_vec[i]))\n",
    "        \n",
    "        # Выбираем самые релевантные треки для пользователя и создаём массив с их song_id\n",
    "        rec_list = np.argsort(relevance_list)[:-rec_list_length-1:-1]\n",
    "\n",
    "        # Находим target для каждого трека в рекомендации пользователю\n",
    "        target_rec_list = [user_item_sparse[:,msno].todense().tolist()[rec_list[i]][0] for i in range(rec_list_length)]\n",
    "\n",
    "        # Считаем и записываем в массив NDSG@20 для полученного списка рекомендаций пользователю\n",
    "        target_rec_list_sorted = sorted(target_rec_list, reverse=True)\n",
    "        ndsgs.append(ndcg_score([target_rec_list_sorted], [target_rec_list]))\n",
    "    # Возвращаем средний NDSG@20 по рекомендательным выдачам\n",
    "    return np.mean(ndsgs)"
   ]
  },
  {
   "cell_type": "code",
   "execution_count": 38,
   "metadata": {},
   "outputs": [
    {
     "name": "stdout",
     "output_type": "stream",
     "text": [
      "Mean NDSG@20 for SVD with k = 150: 0.8252359552073059\n"
     ]
    }
   ],
   "source": [
    "print('Mean NDSG@20 for SVD with k = 150:', EvaluateModel(50, 20, 150))"
   ]
  },
  {
   "cell_type": "code",
   "execution_count": 39,
   "metadata": {},
   "outputs": [
    {
     "name": "stdout",
     "output_type": "stream",
     "text": [
      "Mean NDSG@20 for SVD with k = 100: 0.7942473272927935\n"
     ]
    }
   ],
   "source": [
    "print('Mean NDSG@20 for SVD with k = 100:', EvaluateModel(50, 20, 100))"
   ]
  },
  {
   "cell_type": "code",
   "execution_count": 40,
   "metadata": {},
   "outputs": [
    {
     "name": "stdout",
     "output_type": "stream",
     "text": [
      "Mean NDSG@20 for SVD with k = 50: 0.7743161978167956\n"
     ]
    }
   ],
   "source": [
    "print('Mean NDSG@20 for SVD with k = 50:', EvaluateModel(50, 20, 50))"
   ]
  },
  {
   "cell_type": "code",
   "execution_count": 41,
   "metadata": {},
   "outputs": [
    {
     "name": "stdout",
     "output_type": "stream",
     "text": [
      "Mean NDSG@20 for SVD with k = 25: 0.6796493508418796\n"
     ]
    }
   ],
   "source": [
    "print('Mean NDSG@20 for SVD with k = 25:', EvaluateModel(50, 20, 25))"
   ]
  },
  {
   "cell_type": "code",
   "execution_count": 42,
   "metadata": {},
   "outputs": [
    {
     "name": "stdout",
     "output_type": "stream",
     "text": [
      "Mean NDSG@20 for SVD with k = 15: 0.656040515902289\n"
     ]
    }
   ],
   "source": [
    "print('Mean NDSG@20 for SVD with k = 15:', EvaluateModel(50, 20, 15))"
   ]
  },
  {
   "cell_type": "markdown",
   "metadata": {},
   "source": [
    "# Финальная оценка качества модели с помощью метрики NDSG@20."
   ]
  },
  {
   "cell_type": "markdown",
   "metadata": {},
   "source": [
    "Выберем модель с k=50, метрику для неё можно считать оптимальной, часть рекомендованных треков будет релевантно, а оставшаяся часть будет подобрана согласно вкусам похожих пользователей.\n",
    "\n",
    "Найдём финальный скор нашей модели, посчитав средний скор по 100 пользователям."
   ]
  },
  {
   "cell_type": "code",
   "execution_count": 44,
   "metadata": {},
   "outputs": [
    {
     "name": "stdout",
     "output_type": "stream",
     "text": [
      "Final score for SVD with k = 100: 0.7231299994497722\n"
     ]
    }
   ],
   "source": [
    "print('Final score for SVD with k = 100:', EvaluateModel(100, 20, 50))"
   ]
  }
 ],
 "metadata": {
  "kernelspec": {
   "display_name": "tf",
   "language": "python",
   "name": "python3"
  },
  "language_info": {
   "codemirror_mode": {
    "name": "ipython",
    "version": 3
   },
   "file_extension": ".py",
   "mimetype": "text/x-python",
   "name": "python",
   "nbconvert_exporter": "python",
   "pygments_lexer": "ipython3",
   "version": "3.9.18"
  }
 },
 "nbformat": 4,
 "nbformat_minor": 2
}
